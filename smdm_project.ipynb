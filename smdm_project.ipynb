{
 "cells": [
  {
   "cell_type": "markdown",
   "id": "9c8f5f89",
   "metadata": {},
   "source": [
    "### Wholesale Customers Analysis"
   ]
  },
  {
   "cell_type": "markdown",
   "id": "17065d17",
   "metadata": {},
   "source": [
    "### Problem Statement: A wholesale distributor operating in different regions of Portugal has information on annual spending of several items in their stores across different regions and channels. The data consists of 440 large retailers’ annual spending on 6 different varieties of products in 3 different regions (Lisbon, Oporto, Other) and across different sales channel (Hotel, Retail).\n",
    "\n",
    "\n",
    "\n"
   ]
  },
  {
   "cell_type": "markdown",
   "id": "b97ed25e",
   "metadata": {},
   "source": [
    "1.1 Use methods of descriptive statistics to summarize data. Which Region and which Channel spent the most? Which Region and which Channel spent the least?\n",
    "\n",
    "1.2 There are 6 different varieties of items that are considered. Describe and comment/explain all the varieties across Region and Channel? Provide a detailed justification for your answer.\n",
    "\n",
    "1.3 On the basis of a descriptive measure of variability, which item shows the most inconsistent behaviour? Which items show the least inconsistent behaviour?\n",
    "\n",
    "1.4 Are there any outliers in the data? Back up your answer with a suitable plot/technique with the help of detailed comments.\n",
    "\n",
    "1.5 On the basis of your analysis, what are your recommendations for the business? How can your analysis help the business to solve its problem? Answer from the business perspective"
   ]
  },
  {
   "cell_type": "code",
   "execution_count": 1,
   "id": "a925533a",
   "metadata": {},
   "outputs": [],
   "source": [
    "import numpy as np\n",
    "import pandas as pd\n",
    "\n",
    "import matplotlib.pyplot as plt\n",
    "%matplotlib inline\n",
    "\n",
    "import seaborn as sns\n",
    "import os\n",
    "\n",
    "import math\n",
    "import scipy.stats as stats\n",
    "import statistics\n",
    "from scipy.stats import ttest_1samp,ttest_ind\n",
    "from statsmodels.stats.power import ttest_power\n",
    "import statsmodels.stats.weightstats as statsmod"
   ]
  },
  {
   "cell_type": "code",
   "execution_count": 2,
   "id": "4e98278f",
   "metadata": {},
   "outputs": [],
   "source": [
    "import warnings\n",
    "warnings.filterwarnings('ignore')"
   ]
  },
  {
   "cell_type": "code",
   "execution_count": 3,
   "id": "a1efd27f",
   "metadata": {},
   "outputs": [
    {
     "data": {
      "text/plain": [
       "['project_smdm_pooja.ipynb',\n",
       " 'A B shingles.csv',\n",
       " 'smdm_report_pooja.pdf',\n",
       " '.ipynb_checkpoints',\n",
       " 'Survey.csv',\n",
       " 'Wholesale Customer.csv']"
      ]
     },
     "execution_count": 3,
     "metadata": {},
     "output_type": "execute_result"
    }
   ],
   "source": [
    "os.listdir()"
   ]
  },
  {
   "cell_type": "code",
   "execution_count": 4,
   "id": "4d9bdbc4",
   "metadata": {},
   "outputs": [],
   "source": [
    "df1 = pd.read_csv('Wholesale Customer.csv')"
   ]
  },
  {
   "cell_type": "code",
   "execution_count": 5,
   "id": "c647b884",
   "metadata": {
    "scrolled": false
   },
   "outputs": [
    {
     "data": {
      "text/html": [
       "<div>\n",
       "<style scoped>\n",
       "    .dataframe tbody tr th:only-of-type {\n",
       "        vertical-align: middle;\n",
       "    }\n",
       "\n",
       "    .dataframe tbody tr th {\n",
       "        vertical-align: top;\n",
       "    }\n",
       "\n",
       "    .dataframe thead th {\n",
       "        text-align: right;\n",
       "    }\n",
       "</style>\n",
       "<table border=\"1\" class=\"dataframe\">\n",
       "  <thead>\n",
       "    <tr style=\"text-align: right;\">\n",
       "      <th></th>\n",
       "      <th>Buyer/Spender</th>\n",
       "      <th>Channel</th>\n",
       "      <th>Region</th>\n",
       "      <th>Fresh</th>\n",
       "      <th>Milk</th>\n",
       "      <th>Grocery</th>\n",
       "      <th>Frozen</th>\n",
       "      <th>Detergents_Paper</th>\n",
       "      <th>Delicatessen</th>\n",
       "    </tr>\n",
       "  </thead>\n",
       "  <tbody>\n",
       "    <tr>\n",
       "      <th>0</th>\n",
       "      <td>1</td>\n",
       "      <td>Retail</td>\n",
       "      <td>Other</td>\n",
       "      <td>12669</td>\n",
       "      <td>9656</td>\n",
       "      <td>7561</td>\n",
       "      <td>214</td>\n",
       "      <td>2674</td>\n",
       "      <td>1338</td>\n",
       "    </tr>\n",
       "    <tr>\n",
       "      <th>1</th>\n",
       "      <td>2</td>\n",
       "      <td>Retail</td>\n",
       "      <td>Other</td>\n",
       "      <td>7057</td>\n",
       "      <td>9810</td>\n",
       "      <td>9568</td>\n",
       "      <td>1762</td>\n",
       "      <td>3293</td>\n",
       "      <td>1776</td>\n",
       "    </tr>\n",
       "    <tr>\n",
       "      <th>2</th>\n",
       "      <td>3</td>\n",
       "      <td>Retail</td>\n",
       "      <td>Other</td>\n",
       "      <td>6353</td>\n",
       "      <td>8808</td>\n",
       "      <td>7684</td>\n",
       "      <td>2405</td>\n",
       "      <td>3516</td>\n",
       "      <td>7844</td>\n",
       "    </tr>\n",
       "    <tr>\n",
       "      <th>3</th>\n",
       "      <td>4</td>\n",
       "      <td>Hotel</td>\n",
       "      <td>Other</td>\n",
       "      <td>13265</td>\n",
       "      <td>1196</td>\n",
       "      <td>4221</td>\n",
       "      <td>6404</td>\n",
       "      <td>507</td>\n",
       "      <td>1788</td>\n",
       "    </tr>\n",
       "    <tr>\n",
       "      <th>4</th>\n",
       "      <td>5</td>\n",
       "      <td>Retail</td>\n",
       "      <td>Other</td>\n",
       "      <td>22615</td>\n",
       "      <td>5410</td>\n",
       "      <td>7198</td>\n",
       "      <td>3915</td>\n",
       "      <td>1777</td>\n",
       "      <td>5185</td>\n",
       "    </tr>\n",
       "    <tr>\n",
       "      <th>...</th>\n",
       "      <td>...</td>\n",
       "      <td>...</td>\n",
       "      <td>...</td>\n",
       "      <td>...</td>\n",
       "      <td>...</td>\n",
       "      <td>...</td>\n",
       "      <td>...</td>\n",
       "      <td>...</td>\n",
       "      <td>...</td>\n",
       "    </tr>\n",
       "    <tr>\n",
       "      <th>435</th>\n",
       "      <td>436</td>\n",
       "      <td>Hotel</td>\n",
       "      <td>Other</td>\n",
       "      <td>29703</td>\n",
       "      <td>12051</td>\n",
       "      <td>16027</td>\n",
       "      <td>13135</td>\n",
       "      <td>182</td>\n",
       "      <td>2204</td>\n",
       "    </tr>\n",
       "    <tr>\n",
       "      <th>436</th>\n",
       "      <td>437</td>\n",
       "      <td>Hotel</td>\n",
       "      <td>Other</td>\n",
       "      <td>39228</td>\n",
       "      <td>1431</td>\n",
       "      <td>764</td>\n",
       "      <td>4510</td>\n",
       "      <td>93</td>\n",
       "      <td>2346</td>\n",
       "    </tr>\n",
       "    <tr>\n",
       "      <th>437</th>\n",
       "      <td>438</td>\n",
       "      <td>Retail</td>\n",
       "      <td>Other</td>\n",
       "      <td>14531</td>\n",
       "      <td>15488</td>\n",
       "      <td>30243</td>\n",
       "      <td>437</td>\n",
       "      <td>14841</td>\n",
       "      <td>1867</td>\n",
       "    </tr>\n",
       "    <tr>\n",
       "      <th>438</th>\n",
       "      <td>439</td>\n",
       "      <td>Hotel</td>\n",
       "      <td>Other</td>\n",
       "      <td>10290</td>\n",
       "      <td>1981</td>\n",
       "      <td>2232</td>\n",
       "      <td>1038</td>\n",
       "      <td>168</td>\n",
       "      <td>2125</td>\n",
       "    </tr>\n",
       "    <tr>\n",
       "      <th>439</th>\n",
       "      <td>440</td>\n",
       "      <td>Hotel</td>\n",
       "      <td>Other</td>\n",
       "      <td>2787</td>\n",
       "      <td>1698</td>\n",
       "      <td>2510</td>\n",
       "      <td>65</td>\n",
       "      <td>477</td>\n",
       "      <td>52</td>\n",
       "    </tr>\n",
       "  </tbody>\n",
       "</table>\n",
       "<p>440 rows × 9 columns</p>\n",
       "</div>"
      ],
      "text/plain": [
       "     Buyer/Spender Channel Region  Fresh   Milk  Grocery  Frozen  \\\n",
       "0                1  Retail  Other  12669   9656     7561     214   \n",
       "1                2  Retail  Other   7057   9810     9568    1762   \n",
       "2                3  Retail  Other   6353   8808     7684    2405   \n",
       "3                4   Hotel  Other  13265   1196     4221    6404   \n",
       "4                5  Retail  Other  22615   5410     7198    3915   \n",
       "..             ...     ...    ...    ...    ...      ...     ...   \n",
       "435            436   Hotel  Other  29703  12051    16027   13135   \n",
       "436            437   Hotel  Other  39228   1431      764    4510   \n",
       "437            438  Retail  Other  14531  15488    30243     437   \n",
       "438            439   Hotel  Other  10290   1981     2232    1038   \n",
       "439            440   Hotel  Other   2787   1698     2510      65   \n",
       "\n",
       "     Detergents_Paper  Delicatessen  \n",
       "0                2674          1338  \n",
       "1                3293          1776  \n",
       "2                3516          7844  \n",
       "3                 507          1788  \n",
       "4                1777          5185  \n",
       "..                ...           ...  \n",
       "435               182          2204  \n",
       "436                93          2346  \n",
       "437             14841          1867  \n",
       "438               168          2125  \n",
       "439               477            52  \n",
       "\n",
       "[440 rows x 9 columns]"
      ]
     },
     "execution_count": 5,
     "metadata": {},
     "output_type": "execute_result"
    }
   ],
   "source": [
    "df1"
   ]
  },
  {
   "cell_type": "code",
   "execution_count": 6,
   "id": "b424af62",
   "metadata": {},
   "outputs": [
    {
     "data": {
      "text/plain": [
       "(440, 9)"
      ]
     },
     "execution_count": 6,
     "metadata": {},
     "output_type": "execute_result"
    }
   ],
   "source": [
    "df1.shape"
   ]
  },
  {
   "cell_type": "markdown",
   "id": "8ed26684",
   "metadata": {},
   "source": [
    "### 1.1 Use methods of descriptive statistics to summarize data. Which Region and which Channel spent the most? Which Region and which Channel spent the least?"
   ]
  },
  {
   "cell_type": "code",
   "execution_count": 7,
   "id": "fdd9e8f8",
   "metadata": {
    "scrolled": true
   },
   "outputs": [
    {
     "data": {
      "text/html": [
       "<div>\n",
       "<style scoped>\n",
       "    .dataframe tbody tr th:only-of-type {\n",
       "        vertical-align: middle;\n",
       "    }\n",
       "\n",
       "    .dataframe tbody tr th {\n",
       "        vertical-align: top;\n",
       "    }\n",
       "\n",
       "    .dataframe thead th {\n",
       "        text-align: right;\n",
       "    }\n",
       "</style>\n",
       "<table border=\"1\" class=\"dataframe\">\n",
       "  <thead>\n",
       "    <tr style=\"text-align: right;\">\n",
       "      <th></th>\n",
       "      <th>Buyer/Spender</th>\n",
       "      <th>Fresh</th>\n",
       "      <th>Milk</th>\n",
       "      <th>Grocery</th>\n",
       "      <th>Frozen</th>\n",
       "      <th>Detergents_Paper</th>\n",
       "      <th>Delicatessen</th>\n",
       "    </tr>\n",
       "  </thead>\n",
       "  <tbody>\n",
       "    <tr>\n",
       "      <th>count</th>\n",
       "      <td>440.000000</td>\n",
       "      <td>440.000000</td>\n",
       "      <td>440.000000</td>\n",
       "      <td>440.000000</td>\n",
       "      <td>440.000000</td>\n",
       "      <td>440.000000</td>\n",
       "      <td>440.000000</td>\n",
       "    </tr>\n",
       "    <tr>\n",
       "      <th>mean</th>\n",
       "      <td>220.500000</td>\n",
       "      <td>12000.297727</td>\n",
       "      <td>5796.265909</td>\n",
       "      <td>7951.277273</td>\n",
       "      <td>3071.931818</td>\n",
       "      <td>2881.493182</td>\n",
       "      <td>1524.870455</td>\n",
       "    </tr>\n",
       "    <tr>\n",
       "      <th>std</th>\n",
       "      <td>127.161315</td>\n",
       "      <td>12647.328865</td>\n",
       "      <td>7380.377175</td>\n",
       "      <td>9503.162829</td>\n",
       "      <td>4854.673333</td>\n",
       "      <td>4767.854448</td>\n",
       "      <td>2820.105937</td>\n",
       "    </tr>\n",
       "    <tr>\n",
       "      <th>min</th>\n",
       "      <td>1.000000</td>\n",
       "      <td>3.000000</td>\n",
       "      <td>55.000000</td>\n",
       "      <td>3.000000</td>\n",
       "      <td>25.000000</td>\n",
       "      <td>3.000000</td>\n",
       "      <td>3.000000</td>\n",
       "    </tr>\n",
       "    <tr>\n",
       "      <th>25%</th>\n",
       "      <td>110.750000</td>\n",
       "      <td>3127.750000</td>\n",
       "      <td>1533.000000</td>\n",
       "      <td>2153.000000</td>\n",
       "      <td>742.250000</td>\n",
       "      <td>256.750000</td>\n",
       "      <td>408.250000</td>\n",
       "    </tr>\n",
       "    <tr>\n",
       "      <th>50%</th>\n",
       "      <td>220.500000</td>\n",
       "      <td>8504.000000</td>\n",
       "      <td>3627.000000</td>\n",
       "      <td>4755.500000</td>\n",
       "      <td>1526.000000</td>\n",
       "      <td>816.500000</td>\n",
       "      <td>965.500000</td>\n",
       "    </tr>\n",
       "    <tr>\n",
       "      <th>75%</th>\n",
       "      <td>330.250000</td>\n",
       "      <td>16933.750000</td>\n",
       "      <td>7190.250000</td>\n",
       "      <td>10655.750000</td>\n",
       "      <td>3554.250000</td>\n",
       "      <td>3922.000000</td>\n",
       "      <td>1820.250000</td>\n",
       "    </tr>\n",
       "    <tr>\n",
       "      <th>max</th>\n",
       "      <td>440.000000</td>\n",
       "      <td>112151.000000</td>\n",
       "      <td>73498.000000</td>\n",
       "      <td>92780.000000</td>\n",
       "      <td>60869.000000</td>\n",
       "      <td>40827.000000</td>\n",
       "      <td>47943.000000</td>\n",
       "    </tr>\n",
       "  </tbody>\n",
       "</table>\n",
       "</div>"
      ],
      "text/plain": [
       "       Buyer/Spender          Fresh          Milk       Grocery        Frozen  \\\n",
       "count     440.000000     440.000000    440.000000    440.000000    440.000000   \n",
       "mean      220.500000   12000.297727   5796.265909   7951.277273   3071.931818   \n",
       "std       127.161315   12647.328865   7380.377175   9503.162829   4854.673333   \n",
       "min         1.000000       3.000000     55.000000      3.000000     25.000000   \n",
       "25%       110.750000    3127.750000   1533.000000   2153.000000    742.250000   \n",
       "50%       220.500000    8504.000000   3627.000000   4755.500000   1526.000000   \n",
       "75%       330.250000   16933.750000   7190.250000  10655.750000   3554.250000   \n",
       "max       440.000000  112151.000000  73498.000000  92780.000000  60869.000000   \n",
       "\n",
       "       Detergents_Paper  Delicatessen  \n",
       "count        440.000000    440.000000  \n",
       "mean        2881.493182   1524.870455  \n",
       "std         4767.854448   2820.105937  \n",
       "min            3.000000      3.000000  \n",
       "25%          256.750000    408.250000  \n",
       "50%          816.500000    965.500000  \n",
       "75%         3922.000000   1820.250000  \n",
       "max        40827.000000  47943.000000  "
      ]
     },
     "execution_count": 7,
     "metadata": {},
     "output_type": "execute_result"
    }
   ],
   "source": [
    "df1.describe()"
   ]
  },
  {
   "cell_type": "code",
   "execution_count": 8,
   "id": "8e64af06",
   "metadata": {},
   "outputs": [],
   "source": [
    "# The above small dataframe gives us the descriptive statistics of all the numerical columns \n",
    "# in the wholesale customer dataframe\n",
    "\n",
    "# From the above table, we can get the count, mean, standard deviation, minimum value, maximum\n",
    "# value, percentile values of the given data\n",
    "\n",
    "# When we compare the several items given, we can see the below information:\n",
    "# mean value is highest for the item Fresh\n",
    "# Highest Maximum spending is for the item Fresh"
   ]
  },
  {
   "cell_type": "code",
   "execution_count": 9,
   "id": "9d78b2ac",
   "metadata": {
    "scrolled": true
   },
   "outputs": [
    {
     "name": "stdout",
     "output_type": "stream",
     "text": [
      "<class 'pandas.core.frame.DataFrame'>\n",
      "RangeIndex: 440 entries, 0 to 439\n",
      "Data columns (total 9 columns):\n",
      " #   Column            Non-Null Count  Dtype \n",
      "---  ------            --------------  ----- \n",
      " 0   Buyer/Spender     440 non-null    int64 \n",
      " 1   Channel           440 non-null    object\n",
      " 2   Region            440 non-null    object\n",
      " 3   Fresh             440 non-null    int64 \n",
      " 4   Milk              440 non-null    int64 \n",
      " 5   Grocery           440 non-null    int64 \n",
      " 6   Frozen            440 non-null    int64 \n",
      " 7   Detergents_Paper  440 non-null    int64 \n",
      " 8   Delicatessen      440 non-null    int64 \n",
      "dtypes: int64(7), object(2)\n",
      "memory usage: 31.1+ KB\n"
     ]
    }
   ],
   "source": [
    "df1.info()"
   ]
  },
  {
   "cell_type": "code",
   "execution_count": 10,
   "id": "31ad3239",
   "metadata": {},
   "outputs": [],
   "source": [
    "# From the above data, we can say that there are 440 rows(0 to 439) and 9 columns\n",
    "# All the columns has 440 as the no. of rows and hence we can say that there may not be any\n",
    "# missing values in the data imported\n",
    "# The data contains data types int and object"
   ]
  },
  {
   "cell_type": "code",
   "execution_count": 11,
   "id": "37833f1e",
   "metadata": {},
   "outputs": [],
   "source": [
    "df1 = df1.drop(\"Buyer/Spender\", axis=1)"
   ]
  },
  {
   "cell_type": "code",
   "execution_count": 12,
   "id": "7cbdca07",
   "metadata": {},
   "outputs": [
    {
     "data": {
      "text/html": [
       "<div>\n",
       "<style scoped>\n",
       "    .dataframe tbody tr th:only-of-type {\n",
       "        vertical-align: middle;\n",
       "    }\n",
       "\n",
       "    .dataframe tbody tr th {\n",
       "        vertical-align: top;\n",
       "    }\n",
       "\n",
       "    .dataframe thead th {\n",
       "        text-align: right;\n",
       "    }\n",
       "</style>\n",
       "<table border=\"1\" class=\"dataframe\">\n",
       "  <thead>\n",
       "    <tr style=\"text-align: right;\">\n",
       "      <th></th>\n",
       "      <th>Channel</th>\n",
       "      <th>Region</th>\n",
       "      <th>Fresh</th>\n",
       "      <th>Milk</th>\n",
       "      <th>Grocery</th>\n",
       "      <th>Frozen</th>\n",
       "      <th>Detergents_Paper</th>\n",
       "      <th>Delicatessen</th>\n",
       "    </tr>\n",
       "  </thead>\n",
       "  <tbody>\n",
       "    <tr>\n",
       "      <th>0</th>\n",
       "      <td>Retail</td>\n",
       "      <td>Other</td>\n",
       "      <td>12669</td>\n",
       "      <td>9656</td>\n",
       "      <td>7561</td>\n",
       "      <td>214</td>\n",
       "      <td>2674</td>\n",
       "      <td>1338</td>\n",
       "    </tr>\n",
       "    <tr>\n",
       "      <th>1</th>\n",
       "      <td>Retail</td>\n",
       "      <td>Other</td>\n",
       "      <td>7057</td>\n",
       "      <td>9810</td>\n",
       "      <td>9568</td>\n",
       "      <td>1762</td>\n",
       "      <td>3293</td>\n",
       "      <td>1776</td>\n",
       "    </tr>\n",
       "    <tr>\n",
       "      <th>2</th>\n",
       "      <td>Retail</td>\n",
       "      <td>Other</td>\n",
       "      <td>6353</td>\n",
       "      <td>8808</td>\n",
       "      <td>7684</td>\n",
       "      <td>2405</td>\n",
       "      <td>3516</td>\n",
       "      <td>7844</td>\n",
       "    </tr>\n",
       "    <tr>\n",
       "      <th>3</th>\n",
       "      <td>Hotel</td>\n",
       "      <td>Other</td>\n",
       "      <td>13265</td>\n",
       "      <td>1196</td>\n",
       "      <td>4221</td>\n",
       "      <td>6404</td>\n",
       "      <td>507</td>\n",
       "      <td>1788</td>\n",
       "    </tr>\n",
       "    <tr>\n",
       "      <th>4</th>\n",
       "      <td>Retail</td>\n",
       "      <td>Other</td>\n",
       "      <td>22615</td>\n",
       "      <td>5410</td>\n",
       "      <td>7198</td>\n",
       "      <td>3915</td>\n",
       "      <td>1777</td>\n",
       "      <td>5185</td>\n",
       "    </tr>\n",
       "  </tbody>\n",
       "</table>\n",
       "</div>"
      ],
      "text/plain": [
       "  Channel Region  Fresh  Milk  Grocery  Frozen  Detergents_Paper  Delicatessen\n",
       "0  Retail  Other  12669  9656     7561     214              2674          1338\n",
       "1  Retail  Other   7057  9810     9568    1762              3293          1776\n",
       "2  Retail  Other   6353  8808     7684    2405              3516          7844\n",
       "3   Hotel  Other  13265  1196     4221    6404               507          1788\n",
       "4  Retail  Other  22615  5410     7198    3915              1777          5185"
      ]
     },
     "execution_count": 12,
     "metadata": {},
     "output_type": "execute_result"
    }
   ],
   "source": [
    "df1.head()"
   ]
  },
  {
   "cell_type": "code",
   "execution_count": 13,
   "id": "556b05cd",
   "metadata": {},
   "outputs": [],
   "source": [
    "df1['Total']=df1.sum(axis=1)"
   ]
  },
  {
   "cell_type": "code",
   "execution_count": 14,
   "id": "886db3ac",
   "metadata": {},
   "outputs": [
    {
     "data": {
      "text/html": [
       "<div>\n",
       "<style scoped>\n",
       "    .dataframe tbody tr th:only-of-type {\n",
       "        vertical-align: middle;\n",
       "    }\n",
       "\n",
       "    .dataframe tbody tr th {\n",
       "        vertical-align: top;\n",
       "    }\n",
       "\n",
       "    .dataframe thead th {\n",
       "        text-align: right;\n",
       "    }\n",
       "</style>\n",
       "<table border=\"1\" class=\"dataframe\">\n",
       "  <thead>\n",
       "    <tr style=\"text-align: right;\">\n",
       "      <th></th>\n",
       "      <th>Channel</th>\n",
       "      <th>Region</th>\n",
       "      <th>Fresh</th>\n",
       "      <th>Milk</th>\n",
       "      <th>Grocery</th>\n",
       "      <th>Frozen</th>\n",
       "      <th>Detergents_Paper</th>\n",
       "      <th>Delicatessen</th>\n",
       "      <th>Total</th>\n",
       "    </tr>\n",
       "  </thead>\n",
       "  <tbody>\n",
       "    <tr>\n",
       "      <th>0</th>\n",
       "      <td>Retail</td>\n",
       "      <td>Other</td>\n",
       "      <td>12669</td>\n",
       "      <td>9656</td>\n",
       "      <td>7561</td>\n",
       "      <td>214</td>\n",
       "      <td>2674</td>\n",
       "      <td>1338</td>\n",
       "      <td>34112</td>\n",
       "    </tr>\n",
       "    <tr>\n",
       "      <th>1</th>\n",
       "      <td>Retail</td>\n",
       "      <td>Other</td>\n",
       "      <td>7057</td>\n",
       "      <td>9810</td>\n",
       "      <td>9568</td>\n",
       "      <td>1762</td>\n",
       "      <td>3293</td>\n",
       "      <td>1776</td>\n",
       "      <td>33266</td>\n",
       "    </tr>\n",
       "    <tr>\n",
       "      <th>2</th>\n",
       "      <td>Retail</td>\n",
       "      <td>Other</td>\n",
       "      <td>6353</td>\n",
       "      <td>8808</td>\n",
       "      <td>7684</td>\n",
       "      <td>2405</td>\n",
       "      <td>3516</td>\n",
       "      <td>7844</td>\n",
       "      <td>36610</td>\n",
       "    </tr>\n",
       "    <tr>\n",
       "      <th>3</th>\n",
       "      <td>Hotel</td>\n",
       "      <td>Other</td>\n",
       "      <td>13265</td>\n",
       "      <td>1196</td>\n",
       "      <td>4221</td>\n",
       "      <td>6404</td>\n",
       "      <td>507</td>\n",
       "      <td>1788</td>\n",
       "      <td>27381</td>\n",
       "    </tr>\n",
       "    <tr>\n",
       "      <th>4</th>\n",
       "      <td>Retail</td>\n",
       "      <td>Other</td>\n",
       "      <td>22615</td>\n",
       "      <td>5410</td>\n",
       "      <td>7198</td>\n",
       "      <td>3915</td>\n",
       "      <td>1777</td>\n",
       "      <td>5185</td>\n",
       "      <td>46100</td>\n",
       "    </tr>\n",
       "  </tbody>\n",
       "</table>\n",
       "</div>"
      ],
      "text/plain": [
       "  Channel Region  Fresh  Milk  Grocery  Frozen  Detergents_Paper  \\\n",
       "0  Retail  Other  12669  9656     7561     214              2674   \n",
       "1  Retail  Other   7057  9810     9568    1762              3293   \n",
       "2  Retail  Other   6353  8808     7684    2405              3516   \n",
       "3   Hotel  Other  13265  1196     4221    6404               507   \n",
       "4  Retail  Other  22615  5410     7198    3915              1777   \n",
       "\n",
       "   Delicatessen  Total  \n",
       "0          1338  34112  \n",
       "1          1776  33266  \n",
       "2          7844  36610  \n",
       "3          1788  27381  \n",
       "4          5185  46100  "
      ]
     },
     "execution_count": 14,
     "metadata": {},
     "output_type": "execute_result"
    }
   ],
   "source": [
    "df1.head()"
   ]
  },
  {
   "cell_type": "code",
   "execution_count": 15,
   "id": "3ec278a2",
   "metadata": {},
   "outputs": [],
   "source": [
    "new_df1_channel = df1.groupby('Channel')['Total']"
   ]
  },
  {
   "cell_type": "code",
   "execution_count": 16,
   "id": "924a1b9b",
   "metadata": {},
   "outputs": [
    {
     "data": {
      "text/plain": [
       "Channel\n",
       "Hotel     7999569\n",
       "Retail    6619931\n",
       "Name: Total, dtype: int64"
      ]
     },
     "execution_count": 16,
     "metadata": {},
     "output_type": "execute_result"
    }
   ],
   "source": [
    "new_df1_channel.sum()"
   ]
  },
  {
   "cell_type": "code",
   "execution_count": 17,
   "id": "1cadf011",
   "metadata": {},
   "outputs": [
    {
     "data": {
      "text/plain": [
       "Channel\n",
       "Retail    6619931\n",
       "Hotel     7999569\n",
       "Name: Total, dtype: int64"
      ]
     },
     "execution_count": 17,
     "metadata": {},
     "output_type": "execute_result"
    }
   ],
   "source": [
    "new_df1_channel.sum().sort_values()"
   ]
  },
  {
   "cell_type": "code",
   "execution_count": 18,
   "id": "7b436c08",
   "metadata": {
    "scrolled": false
   },
   "outputs": [
    {
     "data": {
      "image/png": "[encoded data removed]",
      "text/plain": [
       "<Figure size 640x480 with 1 Axes>"
      ]
     },
     "metadata": {},
     "output_type": "display_data"
    }
   ],
   "source": [
    "new_df1_channel.sum().sort_values().plot(kind='bar');"
   ]
  },
  {
   "cell_type": "code",
   "execution_count": 19,
   "id": "a42ecfe2",
   "metadata": {},
   "outputs": [],
   "source": [
    "# Hotel channel spent the most and Retail channel spent the least"
   ]
  },
  {
   "cell_type": "code",
   "execution_count": 20,
   "id": "7d460208",
   "metadata": {},
   "outputs": [],
   "source": [
    "new_df1_region = df1.groupby('Region')['Total']"
   ]
  },
  {
   "cell_type": "code",
   "execution_count": 21,
   "id": "cf53d23c",
   "metadata": {
    "scrolled": true
   },
   "outputs": [
    {
     "data": {
      "text/plain": [
       "Region\n",
       "Oporto     1555088\n",
       "Lisbon     2386813\n",
       "Other     10677599\n",
       "Name: Total, dtype: int64"
      ]
     },
     "execution_count": 21,
     "metadata": {},
     "output_type": "execute_result"
    }
   ],
   "source": [
    "new_df1_region.sum().sort_values()"
   ]
  },
  {
   "cell_type": "code",
   "execution_count": 22,
   "id": "5cc22474",
   "metadata": {
    "scrolled": true
   },
   "outputs": [
    {
     "data": {
      "image/png": "[encoded data removed]",
      "text/plain": [
       "<Figure size 640x480 with 1 Axes>"
      ]
     },
     "metadata": {},
     "output_type": "display_data"
    }
   ],
   "source": [
    "new_df1_region.sum().sort_values().plot(kind='bar');"
   ]
  },
  {
   "cell_type": "code",
   "execution_count": 23,
   "id": "d81415b3",
   "metadata": {},
   "outputs": [],
   "source": [
    "# Oporto region spent the least and Other region spent the most"
   ]
  },
  {
   "cell_type": "markdown",
   "id": "bba7ea1c",
   "metadata": {},
   "source": [
    "### 1.2 There are 6 different varieties of items that are considered. Describe and comment/explain all the varieties across Region and Channel? Provide a detailed justification for your answer.\n"
   ]
  },
  {
   "cell_type": "code",
   "execution_count": 24,
   "id": "4580bece",
   "metadata": {
    "scrolled": false
   },
   "outputs": [
    {
     "data": {
      "text/html": [
       "<div>\n",
       "<style scoped>\n",
       "    .dataframe tbody tr th:only-of-type {\n",
       "        vertical-align: middle;\n",
       "    }\n",
       "\n",
       "    .dataframe tbody tr th {\n",
       "        vertical-align: top;\n",
       "    }\n",
       "\n",
       "    .dataframe thead th {\n",
       "        text-align: right;\n",
       "    }\n",
       "</style>\n",
       "<table border=\"1\" class=\"dataframe\">\n",
       "  <thead>\n",
       "    <tr style=\"text-align: right;\">\n",
       "      <th></th>\n",
       "      <th>Channel</th>\n",
       "      <th>Region</th>\n",
       "      <th>Fresh</th>\n",
       "      <th>Milk</th>\n",
       "      <th>Grocery</th>\n",
       "      <th>Frozen</th>\n",
       "      <th>Detergents_Paper</th>\n",
       "      <th>Delicatessen</th>\n",
       "      <th>Total</th>\n",
       "    </tr>\n",
       "  </thead>\n",
       "  <tbody>\n",
       "    <tr>\n",
       "      <th>0</th>\n",
       "      <td>Retail</td>\n",
       "      <td>Other</td>\n",
       "      <td>12669</td>\n",
       "      <td>9656</td>\n",
       "      <td>7561</td>\n",
       "      <td>214</td>\n",
       "      <td>2674</td>\n",
       "      <td>1338</td>\n",
       "      <td>34112</td>\n",
       "    </tr>\n",
       "    <tr>\n",
       "      <th>1</th>\n",
       "      <td>Retail</td>\n",
       "      <td>Other</td>\n",
       "      <td>7057</td>\n",
       "      <td>9810</td>\n",
       "      <td>9568</td>\n",
       "      <td>1762</td>\n",
       "      <td>3293</td>\n",
       "      <td>1776</td>\n",
       "      <td>33266</td>\n",
       "    </tr>\n",
       "    <tr>\n",
       "      <th>2</th>\n",
       "      <td>Retail</td>\n",
       "      <td>Other</td>\n",
       "      <td>6353</td>\n",
       "      <td>8808</td>\n",
       "      <td>7684</td>\n",
       "      <td>2405</td>\n",
       "      <td>3516</td>\n",
       "      <td>7844</td>\n",
       "      <td>36610</td>\n",
       "    </tr>\n",
       "  </tbody>\n",
       "</table>\n",
       "</div>"
      ],
      "text/plain": [
       "  Channel Region  Fresh  Milk  Grocery  Frozen  Detergents_Paper  \\\n",
       "0  Retail  Other  12669  9656     7561     214              2674   \n",
       "1  Retail  Other   7057  9810     9568    1762              3293   \n",
       "2  Retail  Other   6353  8808     7684    2405              3516   \n",
       "\n",
       "   Delicatessen  Total  \n",
       "0          1338  34112  \n",
       "1          1776  33266  \n",
       "2          7844  36610  "
      ]
     },
     "execution_count": 24,
     "metadata": {},
     "output_type": "execute_result"
    }
   ],
   "source": [
    "df1.head(3)"
   ]
  },
  {
   "cell_type": "code",
   "execution_count": 25,
   "id": "72c6ea15",
   "metadata": {},
   "outputs": [
    {
     "data": {
      "text/html": [
       "<div>\n",
       "<style scoped>\n",
       "    .dataframe tbody tr th:only-of-type {\n",
       "        vertical-align: middle;\n",
       "    }\n",
       "\n",
       "    .dataframe tbody tr th {\n",
       "        vertical-align: top;\n",
       "    }\n",
       "\n",
       "    .dataframe thead tr th {\n",
       "        text-align: left;\n",
       "    }\n",
       "</style>\n",
       "<table border=\"1\" class=\"dataframe\">\n",
       "  <thead>\n",
       "    <tr>\n",
       "      <th></th>\n",
       "      <th>Channel</th>\n",
       "      <th colspan=\"3\" halign=\"left\">Hotel</th>\n",
       "      <th colspan=\"3\" halign=\"left\">Retail</th>\n",
       "    </tr>\n",
       "    <tr>\n",
       "      <th></th>\n",
       "      <th>Region</th>\n",
       "      <th>Lisbon</th>\n",
       "      <th>Oporto</th>\n",
       "      <th>Other</th>\n",
       "      <th>Lisbon</th>\n",
       "      <th>Oporto</th>\n",
       "      <th>Other</th>\n",
       "    </tr>\n",
       "  </thead>\n",
       "  <tbody>\n",
       "    <tr>\n",
       "      <th rowspan=\"8\" valign=\"top\">Fresh</th>\n",
       "      <th>count</th>\n",
       "      <td>59.000000</td>\n",
       "      <td>28.000000</td>\n",
       "      <td>211.000000</td>\n",
       "      <td>18.000000</td>\n",
       "      <td>19.000000</td>\n",
       "      <td>105.000000</td>\n",
       "    </tr>\n",
       "    <tr>\n",
       "      <th>mean</th>\n",
       "      <td>12902.254237</td>\n",
       "      <td>11650.535714</td>\n",
       "      <td>13878.052133</td>\n",
       "      <td>5200.000000</td>\n",
       "      <td>7289.789474</td>\n",
       "      <td>9831.504762</td>\n",
       "    </tr>\n",
       "    <tr>\n",
       "      <th>std</th>\n",
       "      <td>12342.008901</td>\n",
       "      <td>8969.362752</td>\n",
       "      <td>14746.572913</td>\n",
       "      <td>5415.521495</td>\n",
       "      <td>6867.934548</td>\n",
       "      <td>9635.394129</td>\n",
       "    </tr>\n",
       "    <tr>\n",
       "      <th>min</th>\n",
       "      <td>514.000000</td>\n",
       "      <td>3.000000</td>\n",
       "      <td>3.000000</td>\n",
       "      <td>18.000000</td>\n",
       "      <td>161.000000</td>\n",
       "      <td>23.000000</td>\n",
       "    </tr>\n",
       "    <tr>\n",
       "      <th>25%</th>\n",
       "      <td>4437.500000</td>\n",
       "      <td>4938.250000</td>\n",
       "      <td>3702.500000</td>\n",
       "      <td>2378.250000</td>\n",
       "      <td>2368.000000</td>\n",
       "      <td>2343.000000</td>\n",
       "    </tr>\n",
       "    <tr>\n",
       "      <th>50%</th>\n",
       "      <td>8656.000000</td>\n",
       "      <td>9787.000000</td>\n",
       "      <td>9612.000000</td>\n",
       "      <td>2926.000000</td>\n",
       "      <td>6468.000000</td>\n",
       "      <td>7362.000000</td>\n",
       "    </tr>\n",
       "    <tr>\n",
       "      <th>75%</th>\n",
       "      <td>18135.000000</td>\n",
       "      <td>17031.500000</td>\n",
       "      <td>18821.000000</td>\n",
       "      <td>5988.000000</td>\n",
       "      <td>9162.000000</td>\n",
       "      <td>15076.000000</td>\n",
       "    </tr>\n",
       "    <tr>\n",
       "      <th>max</th>\n",
       "      <td>56083.000000</td>\n",
       "      <td>32717.000000</td>\n",
       "      <td>112151.000000</td>\n",
       "      <td>20782.000000</td>\n",
       "      <td>27082.000000</td>\n",
       "      <td>44466.000000</td>\n",
       "    </tr>\n",
       "    <tr>\n",
       "      <th rowspan=\"8\" valign=\"top\">Milk</th>\n",
       "      <th>count</th>\n",
       "      <td>59.000000</td>\n",
       "      <td>28.000000</td>\n",
       "      <td>211.000000</td>\n",
       "      <td>18.000000</td>\n",
       "      <td>19.000000</td>\n",
       "      <td>105.000000</td>\n",
       "    </tr>\n",
       "    <tr>\n",
       "      <th>mean</th>\n",
       "      <td>3870.203390</td>\n",
       "      <td>2304.250000</td>\n",
       "      <td>3486.981043</td>\n",
       "      <td>10784.000000</td>\n",
       "      <td>9190.789474</td>\n",
       "      <td>10981.009524</td>\n",
       "    </tr>\n",
       "    <tr>\n",
       "      <th>std</th>\n",
       "      <td>4298.321195</td>\n",
       "      <td>2968.628697</td>\n",
       "      <td>4508.505269</td>\n",
       "      <td>6609.221463</td>\n",
       "      <td>6611.354136</td>\n",
       "      <td>10574.827178</td>\n",
       "    </tr>\n",
       "    <tr>\n",
       "      <th>min</th>\n",
       "      <td>258.000000</td>\n",
       "      <td>333.000000</td>\n",
       "      <td>55.000000</td>\n",
       "      <td>2527.000000</td>\n",
       "      <td>928.000000</td>\n",
       "      <td>1124.000000</td>\n",
       "    </tr>\n",
       "    <tr>\n",
       "      <th>25%</th>\n",
       "      <td>1071.000000</td>\n",
       "      <td>1146.000000</td>\n",
       "      <td>1188.500000</td>\n",
       "      <td>6253.250000</td>\n",
       "      <td>4148.500000</td>\n",
       "      <td>6128.000000</td>\n",
       "    </tr>\n",
       "    <tr>\n",
       "      <th>50%</th>\n",
       "      <td>2280.000000</td>\n",
       "      <td>1560.500000</td>\n",
       "      <td>2247.000000</td>\n",
       "      <td>8866.000000</td>\n",
       "      <td>6817.000000</td>\n",
       "      <td>7845.000000</td>\n",
       "    </tr>\n",
       "    <tr>\n",
       "      <th>75%</th>\n",
       "      <td>4995.500000</td>\n",
       "      <td>2344.750000</td>\n",
       "      <td>4205.000000</td>\n",
       "      <td>13112.250000</td>\n",
       "      <td>13127.500000</td>\n",
       "      <td>11114.000000</td>\n",
       "    </tr>\n",
       "    <tr>\n",
       "      <th>max</th>\n",
       "      <td>23527.000000</td>\n",
       "      <td>16784.000000</td>\n",
       "      <td>43950.000000</td>\n",
       "      <td>28326.000000</td>\n",
       "      <td>25071.000000</td>\n",
       "      <td>73498.000000</td>\n",
       "    </tr>\n",
       "    <tr>\n",
       "      <th rowspan=\"8\" valign=\"top\">Grocery</th>\n",
       "      <th>count</th>\n",
       "      <td>59.000000</td>\n",
       "      <td>28.000000</td>\n",
       "      <td>211.000000</td>\n",
       "      <td>18.000000</td>\n",
       "      <td>19.000000</td>\n",
       "      <td>105.000000</td>\n",
       "    </tr>\n",
       "    <tr>\n",
       "      <th>mean</th>\n",
       "      <td>4026.135593</td>\n",
       "      <td>4395.500000</td>\n",
       "      <td>3886.734597</td>\n",
       "      <td>18471.944444</td>\n",
       "      <td>16326.315789</td>\n",
       "      <td>15953.809524</td>\n",
       "    </tr>\n",
       "    <tr>\n",
       "      <th>std</th>\n",
       "      <td>3629.644143</td>\n",
       "      <td>3048.298815</td>\n",
       "      <td>3593.506056</td>\n",
       "      <td>10414.687844</td>\n",
       "      <td>14035.453775</td>\n",
       "      <td>12298.935356</td>\n",
       "    </tr>\n",
       "    <tr>\n",
       "      <th>min</th>\n",
       "      <td>489.000000</td>\n",
       "      <td>1330.000000</td>\n",
       "      <td>3.000000</td>\n",
       "      <td>5265.000000</td>\n",
       "      <td>2743.000000</td>\n",
       "      <td>4523.000000</td>\n",
       "    </tr>\n",
       "    <tr>\n",
       "      <th>25%</th>\n",
       "      <td>1620.000000</td>\n",
       "      <td>2373.750000</td>\n",
       "      <td>1666.000000</td>\n",
       "      <td>10634.250000</td>\n",
       "      <td>9318.500000</td>\n",
       "      <td>9170.000000</td>\n",
       "    </tr>\n",
       "    <tr>\n",
       "      <th>50%</th>\n",
       "      <td>2576.000000</td>\n",
       "      <td>3352.000000</td>\n",
       "      <td>2642.000000</td>\n",
       "      <td>16106.000000</td>\n",
       "      <td>12469.000000</td>\n",
       "      <td>12121.000000</td>\n",
       "    </tr>\n",
       "    <tr>\n",
       "      <th>75%</th>\n",
       "      <td>5172.500000</td>\n",
       "      <td>5527.500000</td>\n",
       "      <td>4927.500000</td>\n",
       "      <td>23478.750000</td>\n",
       "      <td>19785.500000</td>\n",
       "      <td>19805.000000</td>\n",
       "    </tr>\n",
       "    <tr>\n",
       "      <th>max</th>\n",
       "      <td>16966.000000</td>\n",
       "      <td>13626.000000</td>\n",
       "      <td>21042.000000</td>\n",
       "      <td>39694.000000</td>\n",
       "      <td>67298.000000</td>\n",
       "      <td>92780.000000</td>\n",
       "    </tr>\n",
       "    <tr>\n",
       "      <th rowspan=\"8\" valign=\"top\">Frozen</th>\n",
       "      <th>count</th>\n",
       "      <td>59.000000</td>\n",
       "      <td>28.000000</td>\n",
       "      <td>211.000000</td>\n",
       "      <td>18.000000</td>\n",
       "      <td>19.000000</td>\n",
       "      <td>105.000000</td>\n",
       "    </tr>\n",
       "    <tr>\n",
       "      <th>mean</th>\n",
       "      <td>3127.322034</td>\n",
       "      <td>5745.035714</td>\n",
       "      <td>3656.900474</td>\n",
       "      <td>2584.111111</td>\n",
       "      <td>1540.578947</td>\n",
       "      <td>1513.200000</td>\n",
       "    </tr>\n",
       "    <tr>\n",
       "      <th>std</th>\n",
       "      <td>3276.460124</td>\n",
       "      <td>11454.478518</td>\n",
       "      <td>4956.590848</td>\n",
       "      <td>2424.774577</td>\n",
       "      <td>2473.266471</td>\n",
       "      <td>1504.498737</td>\n",
       "    </tr>\n",
       "    <tr>\n",
       "      <th>min</th>\n",
       "      <td>91.000000</td>\n",
       "      <td>264.000000</td>\n",
       "      <td>25.000000</td>\n",
       "      <td>61.000000</td>\n",
       "      <td>131.000000</td>\n",
       "      <td>33.000000</td>\n",
       "    </tr>\n",
       "    <tr>\n",
       "      <th>25%</th>\n",
       "      <td>966.000000</td>\n",
       "      <td>962.250000</td>\n",
       "      <td>779.000000</td>\n",
       "      <td>923.500000</td>\n",
       "      <td>639.500000</td>\n",
       "      <td>437.000000</td>\n",
       "    </tr>\n",
       "    <tr>\n",
       "      <th>50%</th>\n",
       "      <td>1859.000000</td>\n",
       "      <td>2696.500000</td>\n",
       "      <td>1960.000000</td>\n",
       "      <td>1522.000000</td>\n",
       "      <td>934.000000</td>\n",
       "      <td>1059.000000</td>\n",
       "    </tr>\n",
       "    <tr>\n",
       "      <th>75%</th>\n",
       "      <td>4479.000000</td>\n",
       "      <td>4617.000000</td>\n",
       "      <td>4542.500000</td>\n",
       "      <td>3843.000000</td>\n",
       "      <td>1410.000000</td>\n",
       "      <td>2194.000000</td>\n",
       "    </tr>\n",
       "    <tr>\n",
       "      <th>max</th>\n",
       "      <td>18711.000000</td>\n",
       "      <td>60869.000000</td>\n",
       "      <td>36534.000000</td>\n",
       "      <td>8321.000000</td>\n",
       "      <td>11559.000000</td>\n",
       "      <td>8132.000000</td>\n",
       "    </tr>\n",
       "    <tr>\n",
       "      <th rowspan=\"8\" valign=\"top\">Detergents_Paper</th>\n",
       "      <th>count</th>\n",
       "      <td>59.000000</td>\n",
       "      <td>28.000000</td>\n",
       "      <td>211.000000</td>\n",
       "      <td>18.000000</td>\n",
       "      <td>19.000000</td>\n",
       "      <td>105.000000</td>\n",
       "    </tr>\n",
       "    <tr>\n",
       "      <th>mean</th>\n",
       "      <td>950.525424</td>\n",
       "      <td>482.714286</td>\n",
       "      <td>786.682464</td>\n",
       "      <td>8225.277778</td>\n",
       "      <td>8410.263158</td>\n",
       "      <td>6899.238095</td>\n",
       "    </tr>\n",
       "    <tr>\n",
       "      <th>std</th>\n",
       "      <td>1305.907616</td>\n",
       "      <td>425.310506</td>\n",
       "      <td>1099.970640</td>\n",
       "      <td>5515.878798</td>\n",
       "      <td>8286.748255</td>\n",
       "      <td>6022.091110</td>\n",
       "    </tr>\n",
       "    <tr>\n",
       "      <th>min</th>\n",
       "      <td>5.000000</td>\n",
       "      <td>15.000000</td>\n",
       "      <td>3.000000</td>\n",
       "      <td>788.000000</td>\n",
       "      <td>332.000000</td>\n",
       "      <td>523.000000</td>\n",
       "    </tr>\n",
       "    <tr>\n",
       "      <th>25%</th>\n",
       "      <td>237.000000</td>\n",
       "      <td>182.750000</td>\n",
       "      <td>176.500000</td>\n",
       "      <td>4818.250000</td>\n",
       "      <td>3900.000000</td>\n",
       "      <td>3537.000000</td>\n",
       "    </tr>\n",
       "    <tr>\n",
       "      <th>50%</th>\n",
       "      <td>412.000000</td>\n",
       "      <td>325.000000</td>\n",
       "      <td>375.000000</td>\n",
       "      <td>6177.000000</td>\n",
       "      <td>6236.000000</td>\n",
       "      <td>5121.000000</td>\n",
       "    </tr>\n",
       "    <tr>\n",
       "      <th>75%</th>\n",
       "      <td>874.000000</td>\n",
       "      <td>707.000000</td>\n",
       "      <td>948.500000</td>\n",
       "      <td>11804.750000</td>\n",
       "      <td>9837.500000</td>\n",
       "      <td>7677.000000</td>\n",
       "    </tr>\n",
       "    <tr>\n",
       "      <th>max</th>\n",
       "      <td>5828.000000</td>\n",
       "      <td>1679.000000</td>\n",
       "      <td>6907.000000</td>\n",
       "      <td>19410.000000</td>\n",
       "      <td>38102.000000</td>\n",
       "      <td>40827.000000</td>\n",
       "    </tr>\n",
       "    <tr>\n",
       "      <th rowspan=\"8\" valign=\"top\">Delicatessen</th>\n",
       "      <th>count</th>\n",
       "      <td>59.000000</td>\n",
       "      <td>28.000000</td>\n",
       "      <td>211.000000</td>\n",
       "      <td>18.000000</td>\n",
       "      <td>19.000000</td>\n",
       "      <td>105.000000</td>\n",
       "    </tr>\n",
       "    <tr>\n",
       "      <th>mean</th>\n",
       "      <td>1197.152542</td>\n",
       "      <td>1105.892857</td>\n",
       "      <td>1518.284360</td>\n",
       "      <td>1871.944444</td>\n",
       "      <td>1239.000000</td>\n",
       "      <td>1826.209524</td>\n",
       "    </tr>\n",
       "    <tr>\n",
       "      <th>std</th>\n",
       "      <td>1219.945304</td>\n",
       "      <td>1056.778800</td>\n",
       "      <td>3663.183304</td>\n",
       "      <td>1626.486667</td>\n",
       "      <td>1065.438042</td>\n",
       "      <td>2119.052222</td>\n",
       "    </tr>\n",
       "    <tr>\n",
       "      <th>min</th>\n",
       "      <td>7.000000</td>\n",
       "      <td>51.000000</td>\n",
       "      <td>3.000000</td>\n",
       "      <td>120.000000</td>\n",
       "      <td>59.000000</td>\n",
       "      <td>3.000000</td>\n",
       "    </tr>\n",
       "    <tr>\n",
       "      <th>25%</th>\n",
       "      <td>374.000000</td>\n",
       "      <td>567.250000</td>\n",
       "      <td>378.500000</td>\n",
       "      <td>746.000000</td>\n",
       "      <td>392.500000</td>\n",
       "      <td>545.000000</td>\n",
       "    </tr>\n",
       "    <tr>\n",
       "      <th>50%</th>\n",
       "      <td>749.000000</td>\n",
       "      <td>883.000000</td>\n",
       "      <td>823.000000</td>\n",
       "      <td>1414.000000</td>\n",
       "      <td>1037.000000</td>\n",
       "      <td>1386.000000</td>\n",
       "    </tr>\n",
       "    <tr>\n",
       "      <th>75%</th>\n",
       "      <td>1621.500000</td>\n",
       "      <td>1146.000000</td>\n",
       "      <td>1582.000000</td>\n",
       "      <td>2456.500000</td>\n",
       "      <td>1815.000000</td>\n",
       "      <td>2158.000000</td>\n",
       "    </tr>\n",
       "    <tr>\n",
       "      <th>max</th>\n",
       "      <td>6854.000000</td>\n",
       "      <td>5609.000000</td>\n",
       "      <td>47943.000000</td>\n",
       "      <td>6372.000000</td>\n",
       "      <td>3508.000000</td>\n",
       "      <td>16523.000000</td>\n",
       "    </tr>\n",
       "  </tbody>\n",
       "</table>\n",
       "</div>"
      ],
      "text/plain": [
       "Channel                        Hotel                               \\\n",
       "Region                        Lisbon        Oporto          Other   \n",
       "Fresh            count     59.000000     28.000000     211.000000   \n",
       "                 mean   12902.254237  11650.535714   13878.052133   \n",
       "                 std    12342.008901   8969.362752   14746.572913   \n",
       "                 min      514.000000      3.000000       3.000000   \n",
       "                 25%     4437.500000   4938.250000    3702.500000   \n",
       "                 50%     8656.000000   9787.000000    9612.000000   \n",
       "                 75%    18135.000000  17031.500000   18821.000000   \n",
       "                 max    56083.000000  32717.000000  112151.000000   \n",
       "Milk             count     59.000000     28.000000     211.000000   \n",
       "                 mean    3870.203390   2304.250000    3486.981043   \n",
       "                 std     4298.321195   2968.628697    4508.505269   \n",
       "                 min      258.000000    333.000000      55.000000   \n",
       "                 25%     1071.000000   1146.000000    1188.500000   \n",
       "                 50%     2280.000000   1560.500000    2247.000000   \n",
       "                 75%     4995.500000   2344.750000    4205.000000   \n",
       "                 max    23527.000000  16784.000000   43950.000000   \n",
       "Grocery          count     59.000000     28.000000     211.000000   \n",
       "                 mean    4026.135593   4395.500000    3886.734597   \n",
       "                 std     3629.644143   3048.298815    3593.506056   \n",
       "                 min      489.000000   1330.000000       3.000000   \n",
       "                 25%     1620.000000   2373.750000    1666.000000   \n",
       "                 50%     2576.000000   3352.000000    2642.000000   \n",
       "                 75%     5172.500000   5527.500000    4927.500000   \n",
       "                 max    16966.000000  13626.000000   21042.000000   \n",
       "Frozen           count     59.000000     28.000000     211.000000   \n",
       "                 mean    3127.322034   5745.035714    3656.900474   \n",
       "                 std     3276.460124  11454.478518    4956.590848   \n",
       "                 min       91.000000    264.000000      25.000000   \n",
       "                 25%      966.000000    962.250000     779.000000   \n",
       "                 50%     1859.000000   2696.500000    1960.000000   \n",
       "                 75%     4479.000000   4617.000000    4542.500000   \n",
       "                 max    18711.000000  60869.000000   36534.000000   \n",
       "Detergents_Paper count     59.000000     28.000000     211.000000   \n",
       "                 mean     950.525424    482.714286     786.682464   \n",
       "                 std     1305.907616    425.310506    1099.970640   \n",
       "                 min        5.000000     15.000000       3.000000   \n",
       "                 25%      237.000000    182.750000     176.500000   \n",
       "                 50%      412.000000    325.000000     375.000000   \n",
       "                 75%      874.000000    707.000000     948.500000   \n",
       "                 max     5828.000000   1679.000000    6907.000000   \n",
       "Delicatessen     count     59.000000     28.000000     211.000000   \n",
       "                 mean    1197.152542   1105.892857    1518.284360   \n",
       "                 std     1219.945304   1056.778800    3663.183304   \n",
       "                 min        7.000000     51.000000       3.000000   \n",
       "                 25%      374.000000    567.250000     378.500000   \n",
       "                 50%      749.000000    883.000000     823.000000   \n",
       "                 75%     1621.500000   1146.000000    1582.000000   \n",
       "                 max     6854.000000   5609.000000   47943.000000   \n",
       "\n",
       "Channel                       Retail                              \n",
       "Region                        Lisbon        Oporto         Other  \n",
       "Fresh            count     18.000000     19.000000    105.000000  \n",
       "                 mean    5200.000000   7289.789474   9831.504762  \n",
       "                 std     5415.521495   6867.934548   9635.394129  \n",
       "                 min       18.000000    161.000000     23.000000  \n",
       "                 25%     2378.250000   2368.000000   2343.000000  \n",
       "                 50%     2926.000000   6468.000000   7362.000000  \n",
       "                 75%     5988.000000   9162.000000  15076.000000  \n",
       "                 max    20782.000000  27082.000000  44466.000000  \n",
       "Milk             count     18.000000     19.000000    105.000000  \n",
       "                 mean   10784.000000   9190.789474  10981.009524  \n",
       "                 std     6609.221463   6611.354136  10574.827178  \n",
       "                 min     2527.000000    928.000000   1124.000000  \n",
       "                 25%     6253.250000   4148.500000   6128.000000  \n",
       "                 50%     8866.000000   6817.000000   7845.000000  \n",
       "                 75%    13112.250000  13127.500000  11114.000000  \n",
       "                 max    28326.000000  25071.000000  73498.000000  \n",
       "Grocery          count     18.000000     19.000000    105.000000  \n",
       "                 mean   18471.944444  16326.315789  15953.809524  \n",
       "                 std    10414.687844  14035.453775  12298.935356  \n",
       "                 min     5265.000000   2743.000000   4523.000000  \n",
       "                 25%    10634.250000   9318.500000   9170.000000  \n",
       "                 50%    16106.000000  12469.000000  12121.000000  \n",
       "                 75%    23478.750000  19785.500000  19805.000000  \n",
       "                 max    39694.000000  67298.000000  92780.000000  \n",
       "Frozen           count     18.000000     19.000000    105.000000  \n",
       "                 mean    2584.111111   1540.578947   1513.200000  \n",
       "                 std     2424.774577   2473.266471   1504.498737  \n",
       "                 min       61.000000    131.000000     33.000000  \n",
       "                 25%      923.500000    639.500000    437.000000  \n",
       "                 50%     1522.000000    934.000000   1059.000000  \n",
       "                 75%     3843.000000   1410.000000   2194.000000  \n",
       "                 max     8321.000000  11559.000000   8132.000000  \n",
       "Detergents_Paper count     18.000000     19.000000    105.000000  \n",
       "                 mean    8225.277778   8410.263158   6899.238095  \n",
       "                 std     5515.878798   8286.748255   6022.091110  \n",
       "                 min      788.000000    332.000000    523.000000  \n",
       "                 25%     4818.250000   3900.000000   3537.000000  \n",
       "                 50%     6177.000000   6236.000000   5121.000000  \n",
       "                 75%    11804.750000   9837.500000   7677.000000  \n",
       "                 max    19410.000000  38102.000000  40827.000000  \n",
       "Delicatessen     count     18.000000     19.000000    105.000000  \n",
       "                 mean    1871.944444   1239.000000   1826.209524  \n",
       "                 std     1626.486667   1065.438042   2119.052222  \n",
       "                 min      120.000000     59.000000      3.000000  \n",
       "                 25%      746.000000    392.500000    545.000000  \n",
       "                 50%     1414.000000   1037.000000   1386.000000  \n",
       "                 75%     2456.500000   1815.000000   2158.000000  \n",
       "                 max     6372.000000   3508.000000  16523.000000  "
      ]
     },
     "execution_count": 25,
     "metadata": {},
     "output_type": "execute_result"
    }
   ],
   "source": [
    "df1.groupby(['Channel','Region'])['Fresh','Milk','Grocery','Frozen','Detergents_Paper','Delicatessen'].describe().T"
   ]
  },
  {
   "cell_type": "code",
   "execution_count": 26,
   "id": "bccf0033",
   "metadata": {},
   "outputs": [],
   "source": [
    "# The above table shows us the description of all the varieties across region and channel"
   ]
  },
  {
   "cell_type": "code",
   "execution_count": 27,
   "id": "048c004c",
   "metadata": {},
   "outputs": [
    {
     "data": {
      "text/html": [
       "<div>\n",
       "<style scoped>\n",
       "    .dataframe tbody tr th:only-of-type {\n",
       "        vertical-align: middle;\n",
       "    }\n",
       "\n",
       "    .dataframe tbody tr th {\n",
       "        vertical-align: top;\n",
       "    }\n",
       "\n",
       "    .dataframe thead th {\n",
       "        text-align: right;\n",
       "    }\n",
       "</style>\n",
       "<table border=\"1\" class=\"dataframe\">\n",
       "  <thead>\n",
       "    <tr style=\"text-align: right;\">\n",
       "      <th></th>\n",
       "      <th></th>\n",
       "      <th>Delicatessen</th>\n",
       "      <th>Detergents_Paper</th>\n",
       "      <th>Fresh</th>\n",
       "      <th>Frozen</th>\n",
       "      <th>Grocery</th>\n",
       "      <th>Milk</th>\n",
       "    </tr>\n",
       "    <tr>\n",
       "      <th>Channel</th>\n",
       "      <th>Region</th>\n",
       "      <th></th>\n",
       "      <th></th>\n",
       "      <th></th>\n",
       "      <th></th>\n",
       "      <th></th>\n",
       "      <th></th>\n",
       "    </tr>\n",
       "  </thead>\n",
       "  <tbody>\n",
       "    <tr>\n",
       "      <th rowspan=\"3\" valign=\"top\">Hotel</th>\n",
       "      <th>Lisbon</th>\n",
       "      <td>1197.152542</td>\n",
       "      <td>950.525424</td>\n",
       "      <td>12902.254237</td>\n",
       "      <td>3127.322034</td>\n",
       "      <td>4026.135593</td>\n",
       "      <td>3870.203390</td>\n",
       "    </tr>\n",
       "    <tr>\n",
       "      <th>Oporto</th>\n",
       "      <td>1105.892857</td>\n",
       "      <td>482.714286</td>\n",
       "      <td>11650.535714</td>\n",
       "      <td>5745.035714</td>\n",
       "      <td>4395.500000</td>\n",
       "      <td>2304.250000</td>\n",
       "    </tr>\n",
       "    <tr>\n",
       "      <th>Other</th>\n",
       "      <td>1518.284360</td>\n",
       "      <td>786.682464</td>\n",
       "      <td>13878.052133</td>\n",
       "      <td>3656.900474</td>\n",
       "      <td>3886.734597</td>\n",
       "      <td>3486.981043</td>\n",
       "    </tr>\n",
       "    <tr>\n",
       "      <th rowspan=\"3\" valign=\"top\">Retail</th>\n",
       "      <th>Lisbon</th>\n",
       "      <td>1871.944444</td>\n",
       "      <td>8225.277778</td>\n",
       "      <td>5200.000000</td>\n",
       "      <td>2584.111111</td>\n",
       "      <td>18471.944444</td>\n",
       "      <td>10784.000000</td>\n",
       "    </tr>\n",
       "    <tr>\n",
       "      <th>Oporto</th>\n",
       "      <td>1239.000000</td>\n",
       "      <td>8410.263158</td>\n",
       "      <td>7289.789474</td>\n",
       "      <td>1540.578947</td>\n",
       "      <td>16326.315789</td>\n",
       "      <td>9190.789474</td>\n",
       "    </tr>\n",
       "    <tr>\n",
       "      <th>Other</th>\n",
       "      <td>1826.209524</td>\n",
       "      <td>6899.238095</td>\n",
       "      <td>9831.504762</td>\n",
       "      <td>1513.200000</td>\n",
       "      <td>15953.809524</td>\n",
       "      <td>10981.009524</td>\n",
       "    </tr>\n",
       "  </tbody>\n",
       "</table>\n",
       "</div>"
      ],
      "text/plain": [
       "                Delicatessen  Detergents_Paper         Fresh       Frozen  \\\n",
       "Channel Region                                                              \n",
       "Hotel   Lisbon   1197.152542        950.525424  12902.254237  3127.322034   \n",
       "        Oporto   1105.892857        482.714286  11650.535714  5745.035714   \n",
       "        Other    1518.284360        786.682464  13878.052133  3656.900474   \n",
       "Retail  Lisbon   1871.944444       8225.277778   5200.000000  2584.111111   \n",
       "        Oporto   1239.000000       8410.263158   7289.789474  1540.578947   \n",
       "        Other    1826.209524       6899.238095   9831.504762  1513.200000   \n",
       "\n",
       "                     Grocery          Milk  \n",
       "Channel Region                              \n",
       "Hotel   Lisbon   4026.135593   3870.203390  \n",
       "        Oporto   4395.500000   2304.250000  \n",
       "        Other    3886.734597   3486.981043  \n",
       "Retail  Lisbon  18471.944444  10784.000000  \n",
       "        Oporto  16326.315789   9190.789474  \n",
       "        Other   15953.809524  10981.009524  "
      ]
     },
     "execution_count": 27,
     "metadata": {},
     "output_type": "execute_result"
    }
   ],
   "source": [
    "pd.pivot_table(df1,values=['Fresh','Milk','Grocery','Frozen','Detergents_Paper','Delicatessen'],index=['Channel','Region'])"
   ]
  },
  {
   "cell_type": "code",
   "execution_count": 28,
   "id": "7f57cbbe",
   "metadata": {},
   "outputs": [],
   "source": [
    "# Looking at the above table, we see that some categories like Milk, Grocery & \n",
    "# Detergents_Paper have higher spend in the Retail channel versus Hotel, across all regions. \n",
    "\n",
    "# On the other hand, Fresh and Frozen have higher consumption in the Hotel channel versus \n",
    "# Retail, across all regions."
   ]
  },
  {
   "cell_type": "code",
   "execution_count": 29,
   "id": "9b5d9d4c",
   "metadata": {
    "scrolled": true
   },
   "outputs": [
    {
     "data": {
      "text/html": [
       "<div>\n",
       "<style scoped>\n",
       "    .dataframe tbody tr th:only-of-type {\n",
       "        vertical-align: middle;\n",
       "    }\n",
       "\n",
       "    .dataframe tbody tr th {\n",
       "        vertical-align: top;\n",
       "    }\n",
       "\n",
       "    .dataframe thead th {\n",
       "        text-align: right;\n",
       "    }\n",
       "</style>\n",
       "<table border=\"1\" class=\"dataframe\">\n",
       "  <thead>\n",
       "    <tr style=\"text-align: right;\">\n",
       "      <th></th>\n",
       "      <th>Channel</th>\n",
       "      <th>Region</th>\n",
       "      <th>Fresh</th>\n",
       "      <th>Milk</th>\n",
       "      <th>Grocery</th>\n",
       "      <th>Frozen</th>\n",
       "      <th>Detergents_Paper</th>\n",
       "      <th>Delicatessen</th>\n",
       "      <th>Total</th>\n",
       "    </tr>\n",
       "  </thead>\n",
       "  <tbody>\n",
       "    <tr>\n",
       "      <th>0</th>\n",
       "      <td>Retail</td>\n",
       "      <td>Other</td>\n",
       "      <td>12669</td>\n",
       "      <td>9656</td>\n",
       "      <td>7561</td>\n",
       "      <td>214</td>\n",
       "      <td>2674</td>\n",
       "      <td>1338</td>\n",
       "      <td>34112</td>\n",
       "    </tr>\n",
       "    <tr>\n",
       "      <th>1</th>\n",
       "      <td>Retail</td>\n",
       "      <td>Other</td>\n",
       "      <td>7057</td>\n",
       "      <td>9810</td>\n",
       "      <td>9568</td>\n",
       "      <td>1762</td>\n",
       "      <td>3293</td>\n",
       "      <td>1776</td>\n",
       "      <td>33266</td>\n",
       "    </tr>\n",
       "    <tr>\n",
       "      <th>2</th>\n",
       "      <td>Retail</td>\n",
       "      <td>Other</td>\n",
       "      <td>6353</td>\n",
       "      <td>8808</td>\n",
       "      <td>7684</td>\n",
       "      <td>2405</td>\n",
       "      <td>3516</td>\n",
       "      <td>7844</td>\n",
       "      <td>36610</td>\n",
       "    </tr>\n",
       "    <tr>\n",
       "      <th>3</th>\n",
       "      <td>Hotel</td>\n",
       "      <td>Other</td>\n",
       "      <td>13265</td>\n",
       "      <td>1196</td>\n",
       "      <td>4221</td>\n",
       "      <td>6404</td>\n",
       "      <td>507</td>\n",
       "      <td>1788</td>\n",
       "      <td>27381</td>\n",
       "    </tr>\n",
       "    <tr>\n",
       "      <th>4</th>\n",
       "      <td>Retail</td>\n",
       "      <td>Other</td>\n",
       "      <td>22615</td>\n",
       "      <td>5410</td>\n",
       "      <td>7198</td>\n",
       "      <td>3915</td>\n",
       "      <td>1777</td>\n",
       "      <td>5185</td>\n",
       "      <td>46100</td>\n",
       "    </tr>\n",
       "  </tbody>\n",
       "</table>\n",
       "</div>"
      ],
      "text/plain": [
       "  Channel Region  Fresh  Milk  Grocery  Frozen  Detergents_Paper  \\\n",
       "0  Retail  Other  12669  9656     7561     214              2674   \n",
       "1  Retail  Other   7057  9810     9568    1762              3293   \n",
       "2  Retail  Other   6353  8808     7684    2405              3516   \n",
       "3   Hotel  Other  13265  1196     4221    6404               507   \n",
       "4  Retail  Other  22615  5410     7198    3915              1777   \n",
       "\n",
       "   Delicatessen  Total  \n",
       "0          1338  34112  \n",
       "1          1776  33266  \n",
       "2          7844  36610  \n",
       "3          1788  27381  \n",
       "4          5185  46100  "
      ]
     },
     "execution_count": 29,
     "metadata": {},
     "output_type": "execute_result"
    }
   ],
   "source": [
    "df1.head()"
   ]
  },
  {
   "cell_type": "code",
   "execution_count": 30,
   "id": "dd4cb340",
   "metadata": {
    "scrolled": false
   },
   "outputs": [
    {
     "data": {
      "image/png": "[encoded data removed]",
      "text/plain": [
       "<Figure size 2500x2500 with 6 Axes>"
      ]
     },
     "metadata": {},
     "output_type": "display_data"
    }
   ],
   "source": [
    "plt.figure(figsize=(25,25))\n",
    "plt.subplot(3,2,1)\n",
    "sns.boxplot(x='Fresh',y='Region',data=df1,hue='Channel');\n",
    "plt.title('Spread for Fresh Variety')\n",
    "\n",
    "plt.subplot(3,2,2)\n",
    "sns.boxplot(x='Milk',y='Region',data=df1,hue='Channel');\n",
    "plt.title('Spread for Milk Variety')\n",
    "\n",
    "plt.subplot(3,2,3)\n",
    "sns.boxplot(x='Grocery',y='Region',data=df1,hue='Channel');\n",
    "plt.title('Spread for Grocery Variety')\n",
    "\n",
    "plt.subplot(3,2,4)\n",
    "sns.boxplot(x='Frozen',y='Region',data=df1,hue='Channel');\n",
    "plt.title('Spread for Frozen Variety')\n",
    "\n",
    "plt.subplot(3,2,5)\n",
    "sns.boxplot(x='Detergents_Paper',y='Region',data=df1,hue='Channel');\n",
    "plt.title('Spread for Detergents_Paper Variety')\n",
    "\n",
    "plt.subplot(3,2,6)\n",
    "sns.boxplot(x='Delicatessen',y='Region',data=df1,hue='Channel')\n",
    "plt.title('Spread for Delicatessen Variety');\n",
    "\n",
    "plt.tight_layout()\n",
    "plt.show()"
   ]
  },
  {
   "cell_type": "code",
   "execution_count": 31,
   "id": "fb270c7c",
   "metadata": {},
   "outputs": [],
   "source": [
    "# Also from the above box plot we can summarize that the spend for Fresh and groceries is the maximum across region and channel.\n",
    "# while for Delicatessen it is the least across region and channel."
   ]
  },
  {
   "cell_type": "markdown",
   "id": "a8282030",
   "metadata": {},
   "source": [
    "### 1.3 On the basis of a descriptive measure of variability, which item shows the most inconsistent behaviour? Which items show the least inconsistent behaviour?\n"
   ]
  },
  {
   "cell_type": "code",
   "execution_count": 32,
   "id": "42296973",
   "metadata": {},
   "outputs": [
    {
     "data": {
      "text/html": [
       "<div>\n",
       "<style scoped>\n",
       "    .dataframe tbody tr th:only-of-type {\n",
       "        vertical-align: middle;\n",
       "    }\n",
       "\n",
       "    .dataframe tbody tr th {\n",
       "        vertical-align: top;\n",
       "    }\n",
       "\n",
       "    .dataframe thead th {\n",
       "        text-align: right;\n",
       "    }\n",
       "</style>\n",
       "<table border=\"1\" class=\"dataframe\">\n",
       "  <thead>\n",
       "    <tr style=\"text-align: right;\">\n",
       "      <th></th>\n",
       "      <th>Channel</th>\n",
       "      <th>Region</th>\n",
       "      <th>Fresh</th>\n",
       "      <th>Milk</th>\n",
       "      <th>Grocery</th>\n",
       "      <th>Frozen</th>\n",
       "      <th>Detergents_Paper</th>\n",
       "      <th>Delicatessen</th>\n",
       "      <th>Total</th>\n",
       "    </tr>\n",
       "  </thead>\n",
       "  <tbody>\n",
       "    <tr>\n",
       "      <th>0</th>\n",
       "      <td>Retail</td>\n",
       "      <td>Other</td>\n",
       "      <td>12669</td>\n",
       "      <td>9656</td>\n",
       "      <td>7561</td>\n",
       "      <td>214</td>\n",
       "      <td>2674</td>\n",
       "      <td>1338</td>\n",
       "      <td>34112</td>\n",
       "    </tr>\n",
       "    <tr>\n",
       "      <th>1</th>\n",
       "      <td>Retail</td>\n",
       "      <td>Other</td>\n",
       "      <td>7057</td>\n",
       "      <td>9810</td>\n",
       "      <td>9568</td>\n",
       "      <td>1762</td>\n",
       "      <td>3293</td>\n",
       "      <td>1776</td>\n",
       "      <td>33266</td>\n",
       "    </tr>\n",
       "    <tr>\n",
       "      <th>2</th>\n",
       "      <td>Retail</td>\n",
       "      <td>Other</td>\n",
       "      <td>6353</td>\n",
       "      <td>8808</td>\n",
       "      <td>7684</td>\n",
       "      <td>2405</td>\n",
       "      <td>3516</td>\n",
       "      <td>7844</td>\n",
       "      <td>36610</td>\n",
       "    </tr>\n",
       "  </tbody>\n",
       "</table>\n",
       "</div>"
      ],
      "text/plain": [
       "  Channel Region  Fresh  Milk  Grocery  Frozen  Detergents_Paper  \\\n",
       "0  Retail  Other  12669  9656     7561     214              2674   \n",
       "1  Retail  Other   7057  9810     9568    1762              3293   \n",
       "2  Retail  Other   6353  8808     7684    2405              3516   \n",
       "\n",
       "   Delicatessen  Total  \n",
       "0          1338  34112  \n",
       "1          1776  33266  \n",
       "2          7844  36610  "
      ]
     },
     "execution_count": 32,
     "metadata": {},
     "output_type": "execute_result"
    }
   ],
   "source": [
    "df1.head(3)"
   ]
  },
  {
   "cell_type": "code",
   "execution_count": 33,
   "id": "f7dc140f",
   "metadata": {},
   "outputs": [
    {
     "data": {
      "text/plain": [
       "Fresh               12647.328865\n",
       "Milk                 7380.377175\n",
       "Grocery              9503.162829\n",
       "Frozen               4854.673333\n",
       "Detergents_Paper     4767.854448\n",
       "Delicatessen         2820.105937\n",
       "Total               26356.301730\n",
       "dtype: float64"
      ]
     },
     "execution_count": 33,
     "metadata": {},
     "output_type": "execute_result"
    }
   ],
   "source": [
    "df1.std()"
   ]
  },
  {
   "cell_type": "code",
   "execution_count": 34,
   "id": "2fb7e215",
   "metadata": {
    "scrolled": true
   },
   "outputs": [
    {
     "data": {
      "text/plain": [
       "Fresh               12000.297727\n",
       "Milk                 5796.265909\n",
       "Grocery              7951.277273\n",
       "Frozen               3071.931818\n",
       "Detergents_Paper     2881.493182\n",
       "Delicatessen         1524.870455\n",
       "Total               33226.136364\n",
       "dtype: float64"
      ]
     },
     "execution_count": 34,
     "metadata": {},
     "output_type": "execute_result"
    }
   ],
   "source": [
    "df1.mean()"
   ]
  },
  {
   "cell_type": "code",
   "execution_count": 35,
   "id": "19dbde4e",
   "metadata": {},
   "outputs": [
    {
     "data": {
      "text/plain": [
       "Fresh               1.053918\n",
       "Milk                1.273299\n",
       "Grocery             1.195174\n",
       "Frozen              1.580332\n",
       "Detergents_Paper    1.654647\n",
       "Delicatessen        1.849407\n",
       "Total               0.793240\n",
       "dtype: float64"
      ]
     },
     "execution_count": 35,
     "metadata": {},
     "output_type": "execute_result"
    }
   ],
   "source": [
    "df1.std()/df1.mean()"
   ]
  },
  {
   "cell_type": "code",
   "execution_count": 36,
   "id": "cf55abc0",
   "metadata": {
    "scrolled": true
   },
   "outputs": [
    {
     "name": "stdout",
     "output_type": "stream",
     "text": [
      "Coefficient of Variation for Fresh is : 1.05392\n",
      "Coefficient of Variation for Milk is : 1.2733\n",
      "Coefficient of Variation for Grocery is : 1.19517\n",
      "Coefficient of Variation for Frozen is : 1.58033\n",
      "Coefficient of Variation for Detergents_Paper is : 1.65465\n",
      "Coefficient of Variation for Delicatessen is : 1.84941\n"
     ]
    }
   ],
   "source": [
    "print('Coefficient of Variation for Fresh is :',round((df1['Fresh'].std()/df1['Fresh'].mean()),5))\n",
    "\n",
    "print('Coefficient of Variation for Milk is :',round((df1['Milk'].std()/df1['Milk'].mean()),5))\n",
    "\n",
    "print('Coefficient of Variation for Grocery is :',round((df1['Grocery'].std()/df1['Grocery'].mean()),5))\n",
    "\n",
    "print('Coefficient of Variation for Frozen is :',round((df1['Frozen'].std()/df1['Frozen'].mean()),5))\n",
    "\n",
    "print('Coefficient of Variation for Detergents_Paper is :',round((df1['Detergents_Paper'].std()/df1['Detergents_Paper'].mean()),5))\n",
    "\n",
    "print('Coefficient of Variation for Delicatessen is :',round((df1['Delicatessen'].std()/df1['Delicatessen'].mean()),5))"
   ]
  },
  {
   "cell_type": "code",
   "execution_count": 37,
   "id": "c848908b",
   "metadata": {},
   "outputs": [],
   "source": [
    "# The higher the coefficient of variation, greater the level of dispersion around the mean.\n",
    "# The lower the value of the coefficient of variation, the more precise the estimate."
   ]
  },
  {
   "cell_type": "code",
   "execution_count": 38,
   "id": "c65a6547",
   "metadata": {},
   "outputs": [],
   "source": [
    "# By calculating Coefficient of Variation, we know that least value is for Category “Fresh”(1.05)\n",
    "# and highest value is for Category “Delicatessen”(1.84)\n",
    "\n",
    "# From the above data, it is clear that most inconsistent behavior is shown by item \n",
    "# 'Delicatessen' and least inconsistent behavior is shown by item 'Fresh'"
   ]
  },
  {
   "cell_type": "markdown",
   "id": "e17ffa4a",
   "metadata": {},
   "source": [
    "### 1.4 Are there any outliers in the data? Back up your answer with a suitable plot/technique with the help of detailed comments.\n"
   ]
  },
  {
   "cell_type": "code",
   "execution_count": 39,
   "id": "cec7af87",
   "metadata": {},
   "outputs": [],
   "source": [
    "df1=pd.read_csv('Wholesale Customer.csv')"
   ]
  },
  {
   "cell_type": "code",
   "execution_count": 40,
   "id": "503f58f4",
   "metadata": {},
   "outputs": [
    {
     "data": {
      "text/html": [
       "<div>\n",
       "<style scoped>\n",
       "    .dataframe tbody tr th:only-of-type {\n",
       "        vertical-align: middle;\n",
       "    }\n",
       "\n",
       "    .dataframe tbody tr th {\n",
       "        vertical-align: top;\n",
       "    }\n",
       "\n",
       "    .dataframe thead th {\n",
       "        text-align: right;\n",
       "    }\n",
       "</style>\n",
       "<table border=\"1\" class=\"dataframe\">\n",
       "  <thead>\n",
       "    <tr style=\"text-align: right;\">\n",
       "      <th></th>\n",
       "      <th>Buyer/Spender</th>\n",
       "      <th>Channel</th>\n",
       "      <th>Region</th>\n",
       "      <th>Fresh</th>\n",
       "      <th>Milk</th>\n",
       "      <th>Grocery</th>\n",
       "      <th>Frozen</th>\n",
       "      <th>Detergents_Paper</th>\n",
       "      <th>Delicatessen</th>\n",
       "    </tr>\n",
       "  </thead>\n",
       "  <tbody>\n",
       "    <tr>\n",
       "      <th>0</th>\n",
       "      <td>1</td>\n",
       "      <td>Retail</td>\n",
       "      <td>Other</td>\n",
       "      <td>12669</td>\n",
       "      <td>9656</td>\n",
       "      <td>7561</td>\n",
       "      <td>214</td>\n",
       "      <td>2674</td>\n",
       "      <td>1338</td>\n",
       "    </tr>\n",
       "    <tr>\n",
       "      <th>1</th>\n",
       "      <td>2</td>\n",
       "      <td>Retail</td>\n",
       "      <td>Other</td>\n",
       "      <td>7057</td>\n",
       "      <td>9810</td>\n",
       "      <td>9568</td>\n",
       "      <td>1762</td>\n",
       "      <td>3293</td>\n",
       "      <td>1776</td>\n",
       "    </tr>\n",
       "    <tr>\n",
       "      <th>2</th>\n",
       "      <td>3</td>\n",
       "      <td>Retail</td>\n",
       "      <td>Other</td>\n",
       "      <td>6353</td>\n",
       "      <td>8808</td>\n",
       "      <td>7684</td>\n",
       "      <td>2405</td>\n",
       "      <td>3516</td>\n",
       "      <td>7844</td>\n",
       "    </tr>\n",
       "    <tr>\n",
       "      <th>3</th>\n",
       "      <td>4</td>\n",
       "      <td>Hotel</td>\n",
       "      <td>Other</td>\n",
       "      <td>13265</td>\n",
       "      <td>1196</td>\n",
       "      <td>4221</td>\n",
       "      <td>6404</td>\n",
       "      <td>507</td>\n",
       "      <td>1788</td>\n",
       "    </tr>\n",
       "    <tr>\n",
       "      <th>4</th>\n",
       "      <td>5</td>\n",
       "      <td>Retail</td>\n",
       "      <td>Other</td>\n",
       "      <td>22615</td>\n",
       "      <td>5410</td>\n",
       "      <td>7198</td>\n",
       "      <td>3915</td>\n",
       "      <td>1777</td>\n",
       "      <td>5185</td>\n",
       "    </tr>\n",
       "  </tbody>\n",
       "</table>\n",
       "</div>"
      ],
      "text/plain": [
       "   Buyer/Spender Channel Region  Fresh  Milk  Grocery  Frozen  \\\n",
       "0              1  Retail  Other  12669  9656     7561     214   \n",
       "1              2  Retail  Other   7057  9810     9568    1762   \n",
       "2              3  Retail  Other   6353  8808     7684    2405   \n",
       "3              4   Hotel  Other  13265  1196     4221    6404   \n",
       "4              5  Retail  Other  22615  5410     7198    3915   \n",
       "\n",
       "   Detergents_Paper  Delicatessen  \n",
       "0              2674          1338  \n",
       "1              3293          1776  \n",
       "2              3516          7844  \n",
       "3               507          1788  \n",
       "4              1777          5185  "
      ]
     },
     "execution_count": 40,
     "metadata": {},
     "output_type": "execute_result"
    }
   ],
   "source": [
    "df1.head()"
   ]
  },
  {
   "cell_type": "code",
   "execution_count": 41,
   "id": "f0b7ea82",
   "metadata": {},
   "outputs": [],
   "source": [
    "df1 = df1.drop(\"Buyer/Spender\", axis=1)"
   ]
  },
  {
   "cell_type": "code",
   "execution_count": 42,
   "id": "1a821c4d",
   "metadata": {
    "scrolled": false
   },
   "outputs": [
    {
     "data": {
      "image/png": "[encoded data removed]",
      "text/plain": [
       "<Figure size 1500x800 with 1 Axes>"
      ]
     },
     "metadata": {},
     "output_type": "display_data"
    }
   ],
   "source": [
    "plt.figure(figsize=(15,8))\n",
    "sns.boxplot(data=df1);"
   ]
  },
  {
   "cell_type": "code",
   "execution_count": 43,
   "id": "d034c23e",
   "metadata": {},
   "outputs": [],
   "source": [
    "# As per the above box plot, we can clearly see that there are outliers in the data.\n",
    "# Outliers are present for all the items in the given dataset."
   ]
  },
  {
   "cell_type": "markdown",
   "id": "7b93b346",
   "metadata": {},
   "source": [
    "### 1.5 On the basis of your analysis, what are your recommendations for the business? How can your analysis help the business to solve its problem? Answer from the business perspective"
   ]
  },
  {
   "cell_type": "code",
   "execution_count": 44,
   "id": "f369bbcc",
   "metadata": {},
   "outputs": [],
   "source": [
    "# As per the above analysis, there are inconsistencies in the amount spent for different \n",
    "# items (concluded this by calculating Coefficient of Variation). Inconsistency can be reduced\n",
    "\n",
    "# There is a huge difference in spending for Hotel and Retail channels for few items such as\n",
    "# Fresh, Milk, Grocery, Detergents_paper. The difference in spending can be reduced.\n",
    "\n",
    "# For the items 'Fresh' and 'Grocery', there is a large spread for the amount spent.\n",
    "# Hence, business can also focus on other items in order to increase their spends.\n",
    "\n",
    "# 'Other' region has more spending compared to 'Oporto' and 'Lisbon'. The business can focus\n",
    "# on increasing the spends for reatailers in the regions 'Oporto' and 'Lisbon'."
   ]
  },
  {
   "cell_type": "markdown",
   "id": "9e5acb24",
   "metadata": {},
   "source": [
    "### Survey DataSet"
   ]
  },
  {
   "cell_type": "markdown",
   "id": "e8a24270",
   "metadata": {},
   "source": [
    "### Problem Statement: The Student News Service at Clear Mountain State University (CMSU) has decided to gather data about the undergraduate students that attend CMSU. CMSU creates and distributes a survey of 14 questions and receives responses from 62 undergraduates (stored in the Survey data set).\n"
   ]
  },
  {
   "cell_type": "markdown",
   "id": "deee271f",
   "metadata": {},
   "source": [
    "2.1. For this data, construct the following contingency tables (Keep Gender as row variable)\n",
    "\n",
    "2.1.1. Gender and Major\n",
    "\n",
    "2.1.2. Gender and Grad Intention\n",
    "\n",
    "2.1.3. Gender and Employment\n",
    "\n",
    "2.1.4. Gender and Computer\n",
    "\n",
    "2.2. Assume that the sample is representative of the population of CMSU. Based on the data, answer the following question:\n",
    "\n",
    "2.2.1. What is the probability that a randomly selected CMSU student will be male?\n",
    "\n",
    "2.2.2. What is the probability that a randomly selected CMSU student will be female?\n",
    "\n",
    "2.3. Assume that the sample is representative of the population of CMSU. Based on the data, answer the following question:\n",
    "\n",
    "2.3.1. Find the conditional probability of different majors among the male students in CMSU.\n",
    "\n",
    "2.3.2 Find the conditional probability of different majors among the female students of CMSU.\n",
    "\n",
    "2.4. Assume that the sample is a representative of the population of CMSU. Based on the data, answer the following question:\n",
    "\n",
    "2.4.1. Find the probability That a randomly chosen student is a male and intends to graduate.\n",
    "\n",
    "2.4.2 Find the probability that a randomly selected student is a female and does NOT have a laptop. \n",
    "\n",
    "2.5. Assume that the sample is representative of the population of CMSU. Based on the data, answer the following question:\n",
    "\n",
    "2.5.1. Find the probability that a randomly chosen student is a male or has full-time employment?\n",
    "\n",
    "2.5.2. Find the conditional probability that given a female student is randomly chosen, she is majoring in international business or management.\n",
    "\n",
    "2.6.  Construct a contingency table of Gender and Intent to Graduate at 2 levels (Yes/No). The Undecided students are not considered now and the table is a 2x2 table. Do you think the graduate intention and being female are independent events?\n",
    "\n",
    "2.7. Note that there are four numerical (continuous) variables in the data set, GPA, Salary, Spending, and Text Messages.\n",
    "\n",
    "Answer the following questions based on the data\n",
    "\n",
    "2.7.1. If a student is chosen randomly, what is the probability that his/her GPA is less than 3?\n",
    "\n",
    "2.7.2. Find the conditional probability that a randomly selected male earns 50 or more. Find the conditional probability that a randomly selected female earns 50 or more.\n",
    "\n",
    "2.8. Note that there are four numerical (continuous) variables in the data set, GPA, Salary, Spending, and Text Messages. For each of them comment whether they follow a normal distribution. Write a note summarizing your conclusions."
   ]
  },
  {
   "cell_type": "code",
   "execution_count": 45,
   "id": "f5b44ec0",
   "metadata": {},
   "outputs": [],
   "source": [
    "df2 = pd.read_csv('Survey.csv')"
   ]
  },
  {
   "cell_type": "code",
   "execution_count": 46,
   "id": "31d16140",
   "metadata": {
    "scrolled": true
   },
   "outputs": [
    {
     "data": {
      "text/html": [
       "<div>\n",
       "<style scoped>\n",
       "    .dataframe tbody tr th:only-of-type {\n",
       "        vertical-align: middle;\n",
       "    }\n",
       "\n",
       "    .dataframe tbody tr th {\n",
       "        vertical-align: top;\n",
       "    }\n",
       "\n",
       "    .dataframe thead th {\n",
       "        text-align: right;\n",
       "    }\n",
       "</style>\n",
       "<table border=\"1\" class=\"dataframe\">\n",
       "  <thead>\n",
       "    <tr style=\"text-align: right;\">\n",
       "      <th></th>\n",
       "      <th>ID</th>\n",
       "      <th>Gender</th>\n",
       "      <th>Age</th>\n",
       "      <th>Class</th>\n",
       "      <th>Major</th>\n",
       "      <th>Grad Intention</th>\n",
       "      <th>GPA</th>\n",
       "      <th>Employment</th>\n",
       "      <th>Salary</th>\n",
       "      <th>Social Networking</th>\n",
       "      <th>Satisfaction</th>\n",
       "      <th>Spending</th>\n",
       "      <th>Computer</th>\n",
       "      <th>Text Messages</th>\n",
       "    </tr>\n",
       "  </thead>\n",
       "  <tbody>\n",
       "    <tr>\n",
       "      <th>0</th>\n",
       "      <td>1</td>\n",
       "      <td>Female</td>\n",
       "      <td>20</td>\n",
       "      <td>Junior</td>\n",
       "      <td>Other</td>\n",
       "      <td>Yes</td>\n",
       "      <td>2.9</td>\n",
       "      <td>Full-Time</td>\n",
       "      <td>50.0</td>\n",
       "      <td>1</td>\n",
       "      <td>3</td>\n",
       "      <td>350</td>\n",
       "      <td>Laptop</td>\n",
       "      <td>200</td>\n",
       "    </tr>\n",
       "    <tr>\n",
       "      <th>1</th>\n",
       "      <td>2</td>\n",
       "      <td>Male</td>\n",
       "      <td>23</td>\n",
       "      <td>Senior</td>\n",
       "      <td>Management</td>\n",
       "      <td>Yes</td>\n",
       "      <td>3.6</td>\n",
       "      <td>Part-Time</td>\n",
       "      <td>25.0</td>\n",
       "      <td>1</td>\n",
       "      <td>4</td>\n",
       "      <td>360</td>\n",
       "      <td>Laptop</td>\n",
       "      <td>50</td>\n",
       "    </tr>\n",
       "    <tr>\n",
       "      <th>2</th>\n",
       "      <td>3</td>\n",
       "      <td>Male</td>\n",
       "      <td>21</td>\n",
       "      <td>Junior</td>\n",
       "      <td>Other</td>\n",
       "      <td>Yes</td>\n",
       "      <td>2.5</td>\n",
       "      <td>Part-Time</td>\n",
       "      <td>45.0</td>\n",
       "      <td>2</td>\n",
       "      <td>4</td>\n",
       "      <td>600</td>\n",
       "      <td>Laptop</td>\n",
       "      <td>200</td>\n",
       "    </tr>\n",
       "    <tr>\n",
       "      <th>3</th>\n",
       "      <td>4</td>\n",
       "      <td>Male</td>\n",
       "      <td>21</td>\n",
       "      <td>Junior</td>\n",
       "      <td>CIS</td>\n",
       "      <td>Yes</td>\n",
       "      <td>2.5</td>\n",
       "      <td>Full-Time</td>\n",
       "      <td>40.0</td>\n",
       "      <td>4</td>\n",
       "      <td>6</td>\n",
       "      <td>600</td>\n",
       "      <td>Laptop</td>\n",
       "      <td>250</td>\n",
       "    </tr>\n",
       "    <tr>\n",
       "      <th>4</th>\n",
       "      <td>5</td>\n",
       "      <td>Male</td>\n",
       "      <td>23</td>\n",
       "      <td>Senior</td>\n",
       "      <td>Other</td>\n",
       "      <td>Undecided</td>\n",
       "      <td>2.8</td>\n",
       "      <td>Unemployed</td>\n",
       "      <td>40.0</td>\n",
       "      <td>2</td>\n",
       "      <td>4</td>\n",
       "      <td>500</td>\n",
       "      <td>Laptop</td>\n",
       "      <td>100</td>\n",
       "    </tr>\n",
       "  </tbody>\n",
       "</table>\n",
       "</div>"
      ],
      "text/plain": [
       "   ID  Gender  Age   Class       Major Grad Intention  GPA  Employment  \\\n",
       "0   1  Female   20  Junior       Other            Yes  2.9   Full-Time   \n",
       "1   2    Male   23  Senior  Management            Yes  3.6   Part-Time   \n",
       "2   3    Male   21  Junior       Other            Yes  2.5   Part-Time   \n",
       "3   4    Male   21  Junior         CIS            Yes  2.5   Full-Time   \n",
       "4   5    Male   23  Senior       Other      Undecided  2.8  Unemployed   \n",
       "\n",
       "   Salary  Social Networking  Satisfaction  Spending Computer  Text Messages  \n",
       "0    50.0                  1             3       350   Laptop            200  \n",
       "1    25.0                  1             4       360   Laptop             50  \n",
       "2    45.0                  2             4       600   Laptop            200  \n",
       "3    40.0                  4             6       600   Laptop            250  \n",
       "4    40.0                  2             4       500   Laptop            100  "
      ]
     },
     "execution_count": 46,
     "metadata": {},
     "output_type": "execute_result"
    }
   ],
   "source": [
    "df2.head()"
   ]
  },
  {
   "cell_type": "code",
   "execution_count": 47,
   "id": "fcf53966",
   "metadata": {},
   "outputs": [
    {
     "data": {
      "text/plain": [
       "(62, 14)"
      ]
     },
     "execution_count": 47,
     "metadata": {},
     "output_type": "execute_result"
    }
   ],
   "source": [
    "df2.shape"
   ]
  },
  {
   "cell_type": "markdown",
   "id": "72f22252",
   "metadata": {},
   "source": [
    "### 2.1. For this data, construct the following contingency tables (Keep Gender as row variable)\n"
   ]
  },
  {
   "cell_type": "markdown",
   "id": "1cb25f5c",
   "metadata": {},
   "source": [
    "#### 2.1.1. Gender and Major"
   ]
  },
  {
   "cell_type": "code",
   "execution_count": 48,
   "id": "35653e79",
   "metadata": {},
   "outputs": [
    {
     "data": {
      "text/html": [
       "<div>\n",
       "<style scoped>\n",
       "    .dataframe tbody tr th:only-of-type {\n",
       "        vertical-align: middle;\n",
       "    }\n",
       "\n",
       "    .dataframe tbody tr th {\n",
       "        vertical-align: top;\n",
       "    }\n",
       "\n",
       "    .dataframe thead th {\n",
       "        text-align: right;\n",
       "    }\n",
       "</style>\n",
       "<table border=\"1\" class=\"dataframe\">\n",
       "  <thead>\n",
       "    <tr style=\"text-align: right;\">\n",
       "      <th>Major</th>\n",
       "      <th>Accounting</th>\n",
       "      <th>CIS</th>\n",
       "      <th>Economics/Finance</th>\n",
       "      <th>International Business</th>\n",
       "      <th>Management</th>\n",
       "      <th>Other</th>\n",
       "      <th>Retailing/Marketing</th>\n",
       "      <th>Undecided</th>\n",
       "    </tr>\n",
       "    <tr>\n",
       "      <th>Gender</th>\n",
       "      <th></th>\n",
       "      <th></th>\n",
       "      <th></th>\n",
       "      <th></th>\n",
       "      <th></th>\n",
       "      <th></th>\n",
       "      <th></th>\n",
       "      <th></th>\n",
       "    </tr>\n",
       "  </thead>\n",
       "  <tbody>\n",
       "    <tr>\n",
       "      <th>Female</th>\n",
       "      <td>3</td>\n",
       "      <td>3</td>\n",
       "      <td>7</td>\n",
       "      <td>4</td>\n",
       "      <td>4</td>\n",
       "      <td>3</td>\n",
       "      <td>9</td>\n",
       "      <td>0</td>\n",
       "    </tr>\n",
       "    <tr>\n",
       "      <th>Male</th>\n",
       "      <td>4</td>\n",
       "      <td>1</td>\n",
       "      <td>4</td>\n",
       "      <td>2</td>\n",
       "      <td>6</td>\n",
       "      <td>4</td>\n",
       "      <td>5</td>\n",
       "      <td>3</td>\n",
       "    </tr>\n",
       "  </tbody>\n",
       "</table>\n",
       "</div>"
      ],
      "text/plain": [
       "Major   Accounting  CIS  Economics/Finance  International Business  \\\n",
       "Gender                                                               \n",
       "Female           3    3                  7                       4   \n",
       "Male             4    1                  4                       2   \n",
       "\n",
       "Major   Management  Other  Retailing/Marketing  Undecided  \n",
       "Gender                                                     \n",
       "Female           4      3                    9          0  \n",
       "Male             6      4                    5          3  "
      ]
     },
     "execution_count": 48,
     "metadata": {},
     "output_type": "execute_result"
    }
   ],
   "source": [
    "pd.crosstab(df2['Gender'],df2['Major'])"
   ]
  },
  {
   "cell_type": "markdown",
   "id": "6a5da21b",
   "metadata": {},
   "source": [
    "#### 2.1.2. Gender and Grad Intention"
   ]
  },
  {
   "cell_type": "code",
   "execution_count": 49,
   "id": "8830a316",
   "metadata": {},
   "outputs": [
    {
     "data": {
      "text/html": [
       "<div>\n",
       "<style scoped>\n",
       "    .dataframe tbody tr th:only-of-type {\n",
       "        vertical-align: middle;\n",
       "    }\n",
       "\n",
       "    .dataframe tbody tr th {\n",
       "        vertical-align: top;\n",
       "    }\n",
       "\n",
       "    .dataframe thead th {\n",
       "        text-align: right;\n",
       "    }\n",
       "</style>\n",
       "<table border=\"1\" class=\"dataframe\">\n",
       "  <thead>\n",
       "    <tr style=\"text-align: right;\">\n",
       "      <th>Grad Intention</th>\n",
       "      <th>No</th>\n",
       "      <th>Undecided</th>\n",
       "      <th>Yes</th>\n",
       "    </tr>\n",
       "    <tr>\n",
       "      <th>Gender</th>\n",
       "      <th></th>\n",
       "      <th></th>\n",
       "      <th></th>\n",
       "    </tr>\n",
       "  </thead>\n",
       "  <tbody>\n",
       "    <tr>\n",
       "      <th>Female</th>\n",
       "      <td>9</td>\n",
       "      <td>13</td>\n",
       "      <td>11</td>\n",
       "    </tr>\n",
       "    <tr>\n",
       "      <th>Male</th>\n",
       "      <td>3</td>\n",
       "      <td>9</td>\n",
       "      <td>17</td>\n",
       "    </tr>\n",
       "  </tbody>\n",
       "</table>\n",
       "</div>"
      ],
      "text/plain": [
       "Grad Intention  No  Undecided  Yes\n",
       "Gender                            \n",
       "Female           9         13   11\n",
       "Male             3          9   17"
      ]
     },
     "execution_count": 49,
     "metadata": {},
     "output_type": "execute_result"
    }
   ],
   "source": [
    "pd.crosstab(df2['Gender'],df2['Grad Intention'])"
   ]
  },
  {
   "cell_type": "markdown",
   "id": "a48a7f54",
   "metadata": {},
   "source": [
    "#### 2.1.3. Gender and Employment"
   ]
  },
  {
   "cell_type": "code",
   "execution_count": 50,
   "id": "d920104c",
   "metadata": {},
   "outputs": [
    {
     "data": {
      "text/html": [
       "<div>\n",
       "<style scoped>\n",
       "    .dataframe tbody tr th:only-of-type {\n",
       "        vertical-align: middle;\n",
       "    }\n",
       "\n",
       "    .dataframe tbody tr th {\n",
       "        vertical-align: top;\n",
       "    }\n",
       "\n",
       "    .dataframe thead th {\n",
       "        text-align: right;\n",
       "    }\n",
       "</style>\n",
       "<table border=\"1\" class=\"dataframe\">\n",
       "  <thead>\n",
       "    <tr style=\"text-align: right;\">\n",
       "      <th>Employment</th>\n",
       "      <th>Full-Time</th>\n",
       "      <th>Part-Time</th>\n",
       "      <th>Unemployed</th>\n",
       "    </tr>\n",
       "    <tr>\n",
       "      <th>Gender</th>\n",
       "      <th></th>\n",
       "      <th></th>\n",
       "      <th></th>\n",
       "    </tr>\n",
       "  </thead>\n",
       "  <tbody>\n",
       "    <tr>\n",
       "      <th>Female</th>\n",
       "      <td>3</td>\n",
       "      <td>24</td>\n",
       "      <td>6</td>\n",
       "    </tr>\n",
       "    <tr>\n",
       "      <th>Male</th>\n",
       "      <td>7</td>\n",
       "      <td>19</td>\n",
       "      <td>3</td>\n",
       "    </tr>\n",
       "  </tbody>\n",
       "</table>\n",
       "</div>"
      ],
      "text/plain": [
       "Employment  Full-Time  Part-Time  Unemployed\n",
       "Gender                                      \n",
       "Female              3         24           6\n",
       "Male                7         19           3"
      ]
     },
     "execution_count": 50,
     "metadata": {},
     "output_type": "execute_result"
    }
   ],
   "source": [
    "pd.crosstab(df2['Gender'],df2['Employment'])"
   ]
  },
  {
   "cell_type": "markdown",
   "id": "152c6271",
   "metadata": {},
   "source": [
    "#### 2.1.4. Gender and Computer"
   ]
  },
  {
   "cell_type": "code",
   "execution_count": 51,
   "id": "18713266",
   "metadata": {},
   "outputs": [
    {
     "data": {
      "text/html": [
       "<div>\n",
       "<style scoped>\n",
       "    .dataframe tbody tr th:only-of-type {\n",
       "        vertical-align: middle;\n",
       "    }\n",
       "\n",
       "    .dataframe tbody tr th {\n",
       "        vertical-align: top;\n",
       "    }\n",
       "\n",
       "    .dataframe thead th {\n",
       "        text-align: right;\n",
       "    }\n",
       "</style>\n",
       "<table border=\"1\" class=\"dataframe\">\n",
       "  <thead>\n",
       "    <tr style=\"text-align: right;\">\n",
       "      <th>Computer</th>\n",
       "      <th>Desktop</th>\n",
       "      <th>Laptop</th>\n",
       "      <th>Tablet</th>\n",
       "    </tr>\n",
       "    <tr>\n",
       "      <th>Gender</th>\n",
       "      <th></th>\n",
       "      <th></th>\n",
       "      <th></th>\n",
       "    </tr>\n",
       "  </thead>\n",
       "  <tbody>\n",
       "    <tr>\n",
       "      <th>Female</th>\n",
       "      <td>2</td>\n",
       "      <td>29</td>\n",
       "      <td>2</td>\n",
       "    </tr>\n",
       "    <tr>\n",
       "      <th>Male</th>\n",
       "      <td>3</td>\n",
       "      <td>26</td>\n",
       "      <td>0</td>\n",
       "    </tr>\n",
       "  </tbody>\n",
       "</table>\n",
       "</div>"
      ],
      "text/plain": [
       "Computer  Desktop  Laptop  Tablet\n",
       "Gender                           \n",
       "Female          2      29       2\n",
       "Male            3      26       0"
      ]
     },
     "execution_count": 51,
     "metadata": {},
     "output_type": "execute_result"
    }
   ],
   "source": [
    "pd.crosstab(df2['Gender'],df2['Computer'])"
   ]
  },
  {
   "cell_type": "markdown",
   "id": "6c670d74",
   "metadata": {},
   "source": [
    "### 2.2. Assume that the sample is representative of the population of CMSU. Based on the data, answer the following question:"
   ]
  },
  {
   "cell_type": "code",
   "execution_count": 52,
   "id": "8f42be1a",
   "metadata": {},
   "outputs": [
    {
     "data": {
      "text/html": [
       "<div>\n",
       "<style scoped>\n",
       "    .dataframe tbody tr th:only-of-type {\n",
       "        vertical-align: middle;\n",
       "    }\n",
       "\n",
       "    .dataframe tbody tr th {\n",
       "        vertical-align: top;\n",
       "    }\n",
       "\n",
       "    .dataframe thead th {\n",
       "        text-align: right;\n",
       "    }\n",
       "</style>\n",
       "<table border=\"1\" class=\"dataframe\">\n",
       "  <thead>\n",
       "    <tr style=\"text-align: right;\">\n",
       "      <th></th>\n",
       "      <th>ID</th>\n",
       "      <th>Gender</th>\n",
       "      <th>Age</th>\n",
       "      <th>Class</th>\n",
       "      <th>Major</th>\n",
       "      <th>Grad Intention</th>\n",
       "      <th>GPA</th>\n",
       "      <th>Employment</th>\n",
       "      <th>Salary</th>\n",
       "      <th>Social Networking</th>\n",
       "      <th>Satisfaction</th>\n",
       "      <th>Spending</th>\n",
       "      <th>Computer</th>\n",
       "      <th>Text Messages</th>\n",
       "    </tr>\n",
       "  </thead>\n",
       "  <tbody>\n",
       "    <tr>\n",
       "      <th>0</th>\n",
       "      <td>1</td>\n",
       "      <td>Female</td>\n",
       "      <td>20</td>\n",
       "      <td>Junior</td>\n",
       "      <td>Other</td>\n",
       "      <td>Yes</td>\n",
       "      <td>2.9</td>\n",
       "      <td>Full-Time</td>\n",
       "      <td>50.0</td>\n",
       "      <td>1</td>\n",
       "      <td>3</td>\n",
       "      <td>350</td>\n",
       "      <td>Laptop</td>\n",
       "      <td>200</td>\n",
       "    </tr>\n",
       "    <tr>\n",
       "      <th>1</th>\n",
       "      <td>2</td>\n",
       "      <td>Male</td>\n",
       "      <td>23</td>\n",
       "      <td>Senior</td>\n",
       "      <td>Management</td>\n",
       "      <td>Yes</td>\n",
       "      <td>3.6</td>\n",
       "      <td>Part-Time</td>\n",
       "      <td>25.0</td>\n",
       "      <td>1</td>\n",
       "      <td>4</td>\n",
       "      <td>360</td>\n",
       "      <td>Laptop</td>\n",
       "      <td>50</td>\n",
       "    </tr>\n",
       "    <tr>\n",
       "      <th>2</th>\n",
       "      <td>3</td>\n",
       "      <td>Male</td>\n",
       "      <td>21</td>\n",
       "      <td>Junior</td>\n",
       "      <td>Other</td>\n",
       "      <td>Yes</td>\n",
       "      <td>2.5</td>\n",
       "      <td>Part-Time</td>\n",
       "      <td>45.0</td>\n",
       "      <td>2</td>\n",
       "      <td>4</td>\n",
       "      <td>600</td>\n",
       "      <td>Laptop</td>\n",
       "      <td>200</td>\n",
       "    </tr>\n",
       "  </tbody>\n",
       "</table>\n",
       "</div>"
      ],
      "text/plain": [
       "   ID  Gender  Age   Class       Major Grad Intention  GPA Employment  Salary  \\\n",
       "0   1  Female   20  Junior       Other            Yes  2.9  Full-Time    50.0   \n",
       "1   2    Male   23  Senior  Management            Yes  3.6  Part-Time    25.0   \n",
       "2   3    Male   21  Junior       Other            Yes  2.5  Part-Time    45.0   \n",
       "\n",
       "   Social Networking  Satisfaction  Spending Computer  Text Messages  \n",
       "0                  1             3       350   Laptop            200  \n",
       "1                  1             4       360   Laptop             50  \n",
       "2                  2             4       600   Laptop            200  "
      ]
     },
     "execution_count": 52,
     "metadata": {},
     "output_type": "execute_result"
    }
   ],
   "source": [
    "df2.head(3)"
   ]
  },
  {
   "cell_type": "markdown",
   "id": "942b8b6a",
   "metadata": {},
   "source": [
    "### 2.2.1. What is the probability that a randomly selected CMSU student will be male?"
   ]
  },
  {
   "cell_type": "code",
   "execution_count": 53,
   "id": "026776af",
   "metadata": {
    "scrolled": true
   },
   "outputs": [],
   "source": [
    "female_students = df2.Gender.value_counts()[0]\n",
    "male_students = df2.Gender.value_counts()[1]\n",
    "Total_students = df2.Gender.value_counts()[0]+df2.Gender.value_counts()[1]"
   ]
  },
  {
   "cell_type": "code",
   "execution_count": 54,
   "id": "709eb7d0",
   "metadata": {
    "scrolled": true
   },
   "outputs": [
    {
     "name": "stdout",
     "output_type": "stream",
     "text": [
      "no. of female students: 33\n",
      "no. of male students: 29\n",
      "Total no. of students: 62\n"
     ]
    }
   ],
   "source": [
    "print('no. of female students:',female_students)\n",
    "print('no. of male students:',male_students)\n",
    "\n",
    "print('Total no. of students:',Total_students)"
   ]
  },
  {
   "cell_type": "code",
   "execution_count": 55,
   "id": "3865a0f1",
   "metadata": {
    "scrolled": true
   },
   "outputs": [
    {
     "name": "stdout",
     "output_type": "stream",
     "text": [
      "The probability that a randomly selected CMSU student will be male is = 29/62 =  0.4677\n"
     ]
    }
   ],
   "source": [
    "print('The probability that a randomly selected CMSU student will be male is = 29/62 = '\n",
    "      ,round((male_students/Total_students),4))"
   ]
  },
  {
   "cell_type": "markdown",
   "id": "e1b39501",
   "metadata": {},
   "source": [
    "### 2.2.2. What is the probability that a randomly selected CMSU student will be female?"
   ]
  },
  {
   "cell_type": "code",
   "execution_count": 56,
   "id": "b66b332f",
   "metadata": {},
   "outputs": [
    {
     "name": "stdout",
     "output_type": "stream",
     "text": [
      "The probability that a randomly selected CMSU student will be female is = 33/62 =  0.5323\n"
     ]
    }
   ],
   "source": [
    "print('The probability that a randomly selected CMSU student will be female is = 33/62 = '\n",
    "      ,round((female_students/Total_students),4))"
   ]
  },
  {
   "cell_type": "markdown",
   "id": "7ae5e458",
   "metadata": {},
   "source": [
    "### 2.3. Assume that the sample is representative of the population of CMSU. Based on the data, answer the following question:"
   ]
  },
  {
   "cell_type": "markdown",
   "id": "3696e9c7",
   "metadata": {},
   "source": [
    "### 2.3.1. Find the conditional probability of different majors among the male students in CMSU."
   ]
  },
  {
   "cell_type": "code",
   "execution_count": 57,
   "id": "3b57fb9f",
   "metadata": {},
   "outputs": [
    {
     "data": {
      "text/html": [
       "<div>\n",
       "<style scoped>\n",
       "    .dataframe tbody tr th:only-of-type {\n",
       "        vertical-align: middle;\n",
       "    }\n",
       "\n",
       "    .dataframe tbody tr th {\n",
       "        vertical-align: top;\n",
       "    }\n",
       "\n",
       "    .dataframe thead th {\n",
       "        text-align: right;\n",
       "    }\n",
       "</style>\n",
       "<table border=\"1\" class=\"dataframe\">\n",
       "  <thead>\n",
       "    <tr style=\"text-align: right;\">\n",
       "      <th>Major</th>\n",
       "      <th>Accounting</th>\n",
       "      <th>CIS</th>\n",
       "      <th>Economics/Finance</th>\n",
       "      <th>International Business</th>\n",
       "      <th>Management</th>\n",
       "      <th>Other</th>\n",
       "      <th>Retailing/Marketing</th>\n",
       "      <th>Undecided</th>\n",
       "    </tr>\n",
       "    <tr>\n",
       "      <th>Gender</th>\n",
       "      <th></th>\n",
       "      <th></th>\n",
       "      <th></th>\n",
       "      <th></th>\n",
       "      <th></th>\n",
       "      <th></th>\n",
       "      <th></th>\n",
       "      <th></th>\n",
       "    </tr>\n",
       "  </thead>\n",
       "  <tbody>\n",
       "    <tr>\n",
       "      <th>Female</th>\n",
       "      <td>3</td>\n",
       "      <td>3</td>\n",
       "      <td>7</td>\n",
       "      <td>4</td>\n",
       "      <td>4</td>\n",
       "      <td>3</td>\n",
       "      <td>9</td>\n",
       "      <td>0</td>\n",
       "    </tr>\n",
       "    <tr>\n",
       "      <th>Male</th>\n",
       "      <td>4</td>\n",
       "      <td>1</td>\n",
       "      <td>4</td>\n",
       "      <td>2</td>\n",
       "      <td>6</td>\n",
       "      <td>4</td>\n",
       "      <td>5</td>\n",
       "      <td>3</td>\n",
       "    </tr>\n",
       "  </tbody>\n",
       "</table>\n",
       "</div>"
      ],
      "text/plain": [
       "Major   Accounting  CIS  Economics/Finance  International Business  \\\n",
       "Gender                                                               \n",
       "Female           3    3                  7                       4   \n",
       "Male             4    1                  4                       2   \n",
       "\n",
       "Major   Management  Other  Retailing/Marketing  Undecided  \n",
       "Gender                                                     \n",
       "Female           4      3                    9          0  \n",
       "Male             6      4                    5          3  "
      ]
     },
     "execution_count": 57,
     "metadata": {},
     "output_type": "execute_result"
    }
   ],
   "source": [
    "pd.crosstab(df2['Gender'],df2['Major'])"
   ]
  },
  {
   "cell_type": "code",
   "execution_count": 58,
   "id": "2c928fe8",
   "metadata": {},
   "outputs": [
    {
     "name": "stdout",
     "output_type": "stream",
     "text": [
      "no. of male students: 29\n"
     ]
    }
   ],
   "source": [
    "print('no. of male students:',male_students)"
   ]
  },
  {
   "cell_type": "code",
   "execution_count": 59,
   "id": "b9b1be97",
   "metadata": {},
   "outputs": [],
   "source": [
    "Prob_Male_Accounting=4/29\n",
    "Prob_Male_CIS=1/29\n",
    "Prob_Male_EconomicsFinance=4/29\n",
    "Prob_Male_InternationalBusiness = 2/29\n",
    "Prob_Male_Management = 6/29\n",
    "Prob_Male_Other = 4/29\n",
    "Prob_Male_Retailing = 5/29\n",
    "Prob_Male_Undecided = 3/29"
   ]
  },
  {
   "cell_type": "code",
   "execution_count": 60,
   "id": "31c28d26",
   "metadata": {},
   "outputs": [
    {
     "name": "stdout",
     "output_type": "stream",
     "text": [
      "The probability of students choosing Accounting among the male students in CMSU = 4/29 =  0.1379 \n",
      "\n",
      "The probability of students choosing CIS among the male students in CMSU = 1/29 =  0.0345 \n",
      "\n",
      "The probability of students choosing Economics/Finance among the male students in CMSU = 4/29 =  0.1379 \n",
      "\n",
      "The probability of students choosing International Business among the male students in CMSU = 2/29 =  0.069 \n",
      "\n",
      "The probability of students choosing Management among the male students in CMSU = 6/29 =  0.2069 \n",
      "\n",
      "The probability of students choosing Other among the male students in CMSU = 4/29 =  0.1379 \n",
      "\n",
      "The probability of students choosing Retailing/Marketing among the male students in CMSU = 5/29 =  0.1724 \n",
      "\n",
      "The probability of students choosing Undecided among the male students in CMSU = 3/29 =  0.1034 \n",
      "\n"
     ]
    }
   ],
   "source": [
    "print('The probability of students choosing Accounting among the male students in CMSU = 4/29 = ',round(Prob_Male_Accounting,4),'\\n')\n",
    "print('The probability of students choosing CIS among the male students in CMSU = 1/29 = ',round(Prob_Male_CIS,4),'\\n')\n",
    "print('The probability of students choosing Economics/Finance among the male students in CMSU = 4/29 = ',round(Prob_Male_EconomicsFinance,4),'\\n')\n",
    "print('The probability of students choosing International Business among the male students in CMSU = 2/29 = ',round(Prob_Male_InternationalBusiness,4),'\\n')\n",
    "print('The probability of students choosing Management among the male students in CMSU = 6/29 = ',round(Prob_Male_Management,4),'\\n')\n",
    "print('The probability of students choosing Other among the male students in CMSU = 4/29 = ',round(Prob_Male_Other,4),'\\n')\n",
    "print('The probability of students choosing Retailing/Marketing among the male students in CMSU = 5/29 = ',round(Prob_Male_Retailing,4),'\\n')\n",
    "print('The probability of students choosing Undecided among the male students in CMSU = 3/29 = ',round(Prob_Male_Undecided,4),'\\n')"
   ]
  },
  {
   "cell_type": "markdown",
   "id": "9fa4f79e",
   "metadata": {},
   "source": [
    "### 2.3.2 Find the conditional probability of different majors among the female students of CMSU.\n"
   ]
  },
  {
   "cell_type": "code",
   "execution_count": 61,
   "id": "05ad8168",
   "metadata": {},
   "outputs": [
    {
     "name": "stdout",
     "output_type": "stream",
     "text": [
      "no. of female students: 33\n"
     ]
    }
   ],
   "source": [
    "print('no. of female students:',female_students)"
   ]
  },
  {
   "cell_type": "code",
   "execution_count": 62,
   "id": "f2281064",
   "metadata": {},
   "outputs": [],
   "source": [
    "Prob_Female_Accounting=3/33\n",
    "Prob_Female_CIS=3/33\n",
    "Prob_Female_EconomicsFinance=7/33\n",
    "Prob_Female_InternationalBusiness = 4/33\n",
    "Prob_Female_Management = 4/33\n",
    "Prob_Female_Other = 3/33\n",
    "Prob_Female_Retailing = 9/33\n",
    "Prob_Female_Undecided = 0/33"
   ]
  },
  {
   "cell_type": "code",
   "execution_count": 63,
   "id": "d01cf409",
   "metadata": {},
   "outputs": [
    {
     "name": "stdout",
     "output_type": "stream",
     "text": [
      "The probability of students choosing Accounting among the female students in CMSU = 3/33 =  0.0909 \n",
      "\n",
      "The probability of students choosing CIS among the female students in CMSU = 3/33 =  0.0909 \n",
      "\n",
      "The probability of students choosing Economics/Finance among the female students in CMSU = 7/33 =  0.2121 \n",
      "\n",
      "The probability of students choosing International Business among the female students in CMSU = 4/33 =  0.1212 \n",
      "\n",
      "The probability of students choosing Management among the female students in CMSU = 4/33 =  0.1212 \n",
      "\n",
      "The probability of students choosing Other among the female students in CMSU = 3/33 =  0.0909 \n",
      "\n",
      "The probability of students choosing Retailing/Marketing among the female students in CMSU = 9/33 =  0.2727 \n",
      "\n",
      "The probability of students choosing Undecided among the female students in CMSU = 0/33 =  0.0 \n",
      "\n"
     ]
    }
   ],
   "source": [
    "print('The probability of students choosing Accounting among the female students in CMSU = 3/33 = ',round(Prob_Female_Accounting,4),'\\n')\n",
    "print('The probability of students choosing CIS among the female students in CMSU = 3/33 = ',round(Prob_Female_CIS,4),'\\n')\n",
    "print('The probability of students choosing Economics/Finance among the female students in CMSU = 7/33 = ',round(Prob_Female_EconomicsFinance,4),'\\n')\n",
    "print('The probability of students choosing International Business among the female students in CMSU = 4/33 = ',round(Prob_Female_InternationalBusiness,4),'\\n')\n",
    "print('The probability of students choosing Management among the female students in CMSU = 4/33 = ',round(Prob_Female_Management,4),'\\n')\n",
    "print('The probability of students choosing Other among the female students in CMSU = 3/33 = ',round(Prob_Female_Other,4),'\\n')\n",
    "print('The probability of students choosing Retailing/Marketing among the female students in CMSU = 9/33 = ',round(Prob_Female_Retailing,4),'\\n')\n",
    "print('The probability of students choosing Undecided among the female students in CMSU = 0/33 = ',round(Prob_Female_Undecided,4),'\\n')"
   ]
  },
  {
   "cell_type": "markdown",
   "id": "97c02f75",
   "metadata": {},
   "source": [
    "### 2.4. Assume that the sample is a representative of the population of CMSU. Based on the data, answer the following question:\n"
   ]
  },
  {
   "cell_type": "markdown",
   "id": "11e2f75b",
   "metadata": {},
   "source": [
    "### 2.4.1. Find the probability That a randomly chosen student is a male and intends to graduate."
   ]
  },
  {
   "cell_type": "code",
   "execution_count": 64,
   "id": "8f46d722",
   "metadata": {},
   "outputs": [
    {
     "data": {
      "text/html": [
       "<div>\n",
       "<style scoped>\n",
       "    .dataframe tbody tr th:only-of-type {\n",
       "        vertical-align: middle;\n",
       "    }\n",
       "\n",
       "    .dataframe tbody tr th {\n",
       "        vertical-align: top;\n",
       "    }\n",
       "\n",
       "    .dataframe thead th {\n",
       "        text-align: right;\n",
       "    }\n",
       "</style>\n",
       "<table border=\"1\" class=\"dataframe\">\n",
       "  <thead>\n",
       "    <tr style=\"text-align: right;\">\n",
       "      <th>Grad Intention</th>\n",
       "      <th>No</th>\n",
       "      <th>Undecided</th>\n",
       "      <th>Yes</th>\n",
       "    </tr>\n",
       "    <tr>\n",
       "      <th>Gender</th>\n",
       "      <th></th>\n",
       "      <th></th>\n",
       "      <th></th>\n",
       "    </tr>\n",
       "  </thead>\n",
       "  <tbody>\n",
       "    <tr>\n",
       "      <th>Female</th>\n",
       "      <td>9</td>\n",
       "      <td>13</td>\n",
       "      <td>11</td>\n",
       "    </tr>\n",
       "    <tr>\n",
       "      <th>Male</th>\n",
       "      <td>3</td>\n",
       "      <td>9</td>\n",
       "      <td>17</td>\n",
       "    </tr>\n",
       "  </tbody>\n",
       "</table>\n",
       "</div>"
      ],
      "text/plain": [
       "Grad Intention  No  Undecided  Yes\n",
       "Gender                            \n",
       "Female           9         13   11\n",
       "Male             3          9   17"
      ]
     },
     "execution_count": 64,
     "metadata": {},
     "output_type": "execute_result"
    }
   ],
   "source": [
    "pd.crosstab(df2['Gender'],df2['Grad Intention'])"
   ]
  },
  {
   "cell_type": "code",
   "execution_count": 65,
   "id": "61ee3854",
   "metadata": {},
   "outputs": [
    {
     "name": "stdout",
     "output_type": "stream",
     "text": [
      "Total number of students : 62\n"
     ]
    }
   ],
   "source": [
    "print('Total number of students :',Total_students)"
   ]
  },
  {
   "cell_type": "code",
   "execution_count": 66,
   "id": "9520838e",
   "metadata": {},
   "outputs": [
    {
     "name": "stdout",
     "output_type": "stream",
     "text": [
      "Probability that a randomly chosen student is male and intends to graduate = 17/62 = 0.2742\n"
     ]
    }
   ],
   "source": [
    "Prob_maleandgraduate = 17/62\n",
    "print('Probability that a randomly chosen student is male and intends to graduate = 17/62 ='\n",
    "      ,round(Prob_maleandgraduate,4))"
   ]
  },
  {
   "cell_type": "markdown",
   "id": "6bd3e73a",
   "metadata": {},
   "source": [
    "### 2.4.2 Find the probability that a randomly selected student is a female and does NOT have a laptop."
   ]
  },
  {
   "cell_type": "code",
   "execution_count": 67,
   "id": "a6f1e227",
   "metadata": {},
   "outputs": [
    {
     "data": {
      "text/html": [
       "<div>\n",
       "<style scoped>\n",
       "    .dataframe tbody tr th:only-of-type {\n",
       "        vertical-align: middle;\n",
       "    }\n",
       "\n",
       "    .dataframe tbody tr th {\n",
       "        vertical-align: top;\n",
       "    }\n",
       "\n",
       "    .dataframe thead th {\n",
       "        text-align: right;\n",
       "    }\n",
       "</style>\n",
       "<table border=\"1\" class=\"dataframe\">\n",
       "  <thead>\n",
       "    <tr style=\"text-align: right;\">\n",
       "      <th>Computer</th>\n",
       "      <th>Desktop</th>\n",
       "      <th>Laptop</th>\n",
       "      <th>Tablet</th>\n",
       "    </tr>\n",
       "    <tr>\n",
       "      <th>Gender</th>\n",
       "      <th></th>\n",
       "      <th></th>\n",
       "      <th></th>\n",
       "    </tr>\n",
       "  </thead>\n",
       "  <tbody>\n",
       "    <tr>\n",
       "      <th>Female</th>\n",
       "      <td>2</td>\n",
       "      <td>29</td>\n",
       "      <td>2</td>\n",
       "    </tr>\n",
       "    <tr>\n",
       "      <th>Male</th>\n",
       "      <td>3</td>\n",
       "      <td>26</td>\n",
       "      <td>0</td>\n",
       "    </tr>\n",
       "  </tbody>\n",
       "</table>\n",
       "</div>"
      ],
      "text/plain": [
       "Computer  Desktop  Laptop  Tablet\n",
       "Gender                           \n",
       "Female          2      29       2\n",
       "Male            3      26       0"
      ]
     },
     "execution_count": 67,
     "metadata": {},
     "output_type": "execute_result"
    }
   ],
   "source": [
    "pd.crosstab(df2['Gender'],df2['Computer'])"
   ]
  },
  {
   "cell_type": "code",
   "execution_count": 68,
   "id": "9e357e3d",
   "metadata": {},
   "outputs": [
    {
     "name": "stdout",
     "output_type": "stream",
     "text": [
      "Probability that a randomly selected student is female and does not have laptop = 4/62 = 0.0645\n"
     ]
    }
   ],
   "source": [
    "Prob_female_nolaptop = (2/62)+(2/62)\n",
    "\n",
    "print('Probability that a randomly selected student is female and does not have laptop = 4/62 =',round(Prob_female_nolaptop,4))"
   ]
  },
  {
   "cell_type": "markdown",
   "id": "b7409faa",
   "metadata": {},
   "source": [
    "### 2.5. Assume that the sample is representative of the population of CMSU. Based on the data, answer the following question:"
   ]
  },
  {
   "cell_type": "markdown",
   "id": "be254dfd",
   "metadata": {},
   "source": [
    "### 2.5.1. Find the probability that a randomly chosen student is a male or has full-time employment?\n"
   ]
  },
  {
   "cell_type": "code",
   "execution_count": 69,
   "id": "eed216b7",
   "metadata": {},
   "outputs": [
    {
     "data": {
      "text/html": [
       "<div>\n",
       "<style scoped>\n",
       "    .dataframe tbody tr th:only-of-type {\n",
       "        vertical-align: middle;\n",
       "    }\n",
       "\n",
       "    .dataframe tbody tr th {\n",
       "        vertical-align: top;\n",
       "    }\n",
       "\n",
       "    .dataframe thead th {\n",
       "        text-align: right;\n",
       "    }\n",
       "</style>\n",
       "<table border=\"1\" class=\"dataframe\">\n",
       "  <thead>\n",
       "    <tr style=\"text-align: right;\">\n",
       "      <th>Employment</th>\n",
       "      <th>Full-Time</th>\n",
       "      <th>Part-Time</th>\n",
       "      <th>Unemployed</th>\n",
       "    </tr>\n",
       "    <tr>\n",
       "      <th>Gender</th>\n",
       "      <th></th>\n",
       "      <th></th>\n",
       "      <th></th>\n",
       "    </tr>\n",
       "  </thead>\n",
       "  <tbody>\n",
       "    <tr>\n",
       "      <th>Female</th>\n",
       "      <td>3</td>\n",
       "      <td>24</td>\n",
       "      <td>6</td>\n",
       "    </tr>\n",
       "    <tr>\n",
       "      <th>Male</th>\n",
       "      <td>7</td>\n",
       "      <td>19</td>\n",
       "      <td>3</td>\n",
       "    </tr>\n",
       "  </tbody>\n",
       "</table>\n",
       "</div>"
      ],
      "text/plain": [
       "Employment  Full-Time  Part-Time  Unemployed\n",
       "Gender                                      \n",
       "Female              3         24           6\n",
       "Male                7         19           3"
      ]
     },
     "execution_count": 69,
     "metadata": {},
     "output_type": "execute_result"
    }
   ],
   "source": [
    "pd.crosstab(df2['Gender'],df2['Employment'])"
   ]
  },
  {
   "cell_type": "code",
   "execution_count": 70,
   "id": "b644f030",
   "metadata": {},
   "outputs": [
    {
     "name": "stdout",
     "output_type": "stream",
     "text": [
      "Probability that a randomly chosen student is a male or has full-time employment = ((7+19+3)/62)+((3+7)/62)-(7/62) = 0.5161\n"
     ]
    }
   ],
   "source": [
    "Prob_maleorfulltime = ((7+19+3)/62)+((3+7)/62)-(7/62)\n",
    "print('Probability that a randomly chosen student is a male or has full-time employment = ((7+19+3)/62)+((3+7)/62)-(7/62) =',round(Prob_maleorfulltime,4))"
   ]
  },
  {
   "cell_type": "markdown",
   "id": "c6818708",
   "metadata": {},
   "source": [
    "### 2.5.2. Find the conditional probability that given a female student is randomly chosen, she is majoring in international business or management."
   ]
  },
  {
   "cell_type": "code",
   "execution_count": 71,
   "id": "aad0c46b",
   "metadata": {
    "scrolled": true
   },
   "outputs": [
    {
     "data": {
      "text/html": [
       "<div>\n",
       "<style scoped>\n",
       "    .dataframe tbody tr th:only-of-type {\n",
       "        vertical-align: middle;\n",
       "    }\n",
       "\n",
       "    .dataframe tbody tr th {\n",
       "        vertical-align: top;\n",
       "    }\n",
       "\n",
       "    .dataframe thead th {\n",
       "        text-align: right;\n",
       "    }\n",
       "</style>\n",
       "<table border=\"1\" class=\"dataframe\">\n",
       "  <thead>\n",
       "    <tr style=\"text-align: right;\">\n",
       "      <th>Major</th>\n",
       "      <th>Accounting</th>\n",
       "      <th>CIS</th>\n",
       "      <th>Economics/Finance</th>\n",
       "      <th>International Business</th>\n",
       "      <th>Management</th>\n",
       "      <th>Other</th>\n",
       "      <th>Retailing/Marketing</th>\n",
       "      <th>Undecided</th>\n",
       "    </tr>\n",
       "    <tr>\n",
       "      <th>Gender</th>\n",
       "      <th></th>\n",
       "      <th></th>\n",
       "      <th></th>\n",
       "      <th></th>\n",
       "      <th></th>\n",
       "      <th></th>\n",
       "      <th></th>\n",
       "      <th></th>\n",
       "    </tr>\n",
       "  </thead>\n",
       "  <tbody>\n",
       "    <tr>\n",
       "      <th>Female</th>\n",
       "      <td>3</td>\n",
       "      <td>3</td>\n",
       "      <td>7</td>\n",
       "      <td>4</td>\n",
       "      <td>4</td>\n",
       "      <td>3</td>\n",
       "      <td>9</td>\n",
       "      <td>0</td>\n",
       "    </tr>\n",
       "    <tr>\n",
       "      <th>Male</th>\n",
       "      <td>4</td>\n",
       "      <td>1</td>\n",
       "      <td>4</td>\n",
       "      <td>2</td>\n",
       "      <td>6</td>\n",
       "      <td>4</td>\n",
       "      <td>5</td>\n",
       "      <td>3</td>\n",
       "    </tr>\n",
       "  </tbody>\n",
       "</table>\n",
       "</div>"
      ],
      "text/plain": [
       "Major   Accounting  CIS  Economics/Finance  International Business  \\\n",
       "Gender                                                               \n",
       "Female           3    3                  7                       4   \n",
       "Male             4    1                  4                       2   \n",
       "\n",
       "Major   Management  Other  Retailing/Marketing  Undecided  \n",
       "Gender                                                     \n",
       "Female           4      3                    9          0  \n",
       "Male             6      4                    5          3  "
      ]
     },
     "execution_count": 71,
     "metadata": {},
     "output_type": "execute_result"
    }
   ],
   "source": [
    "pd.crosstab(df2['Gender'],df2['Major'])"
   ]
  },
  {
   "cell_type": "code",
   "execution_count": 72,
   "id": "2aaac8b4",
   "metadata": {},
   "outputs": [
    {
     "name": "stdout",
     "output_type": "stream",
     "text": [
      "number of female students : 33\n"
     ]
    }
   ],
   "source": [
    "print('number of female students :',female_students)"
   ]
  },
  {
   "cell_type": "code",
   "execution_count": 73,
   "id": "52767e3a",
   "metadata": {},
   "outputs": [],
   "source": [
    "Prob_female_iborm = (4/33)+(4/33)"
   ]
  },
  {
   "cell_type": "code",
   "execution_count": 74,
   "id": "410169da",
   "metadata": {},
   "outputs": [
    {
     "name": "stdout",
     "output_type": "stream",
     "text": [
      "Probability that given a female student is randomly chosen, she is majoring in international business or management = 8/33 = 0.2424\n"
     ]
    }
   ],
   "source": [
    "print('Probability that given a female student is randomly chosen, she is majoring in international business or management = 8/33 =',round(Prob_female_iborm,4))"
   ]
  },
  {
   "cell_type": "markdown",
   "id": "cb4ed971",
   "metadata": {},
   "source": [
    "### 2.6. Construct a contingency table of Gender and Intent to Graduate at 2 levels (Yes/No). The Undecided students are not considered now and the table is a 2x2 table. Do you think the graduate intention and being female are independent events?\n"
   ]
  },
  {
   "cell_type": "code",
   "execution_count": 75,
   "id": "b7be7abc",
   "metadata": {},
   "outputs": [
    {
     "data": {
      "text/html": [
       "<div>\n",
       "<style scoped>\n",
       "    .dataframe tbody tr th:only-of-type {\n",
       "        vertical-align: middle;\n",
       "    }\n",
       "\n",
       "    .dataframe tbody tr th {\n",
       "        vertical-align: top;\n",
       "    }\n",
       "\n",
       "    .dataframe thead th {\n",
       "        text-align: right;\n",
       "    }\n",
       "</style>\n",
       "<table border=\"1\" class=\"dataframe\">\n",
       "  <thead>\n",
       "    <tr style=\"text-align: right;\">\n",
       "      <th></th>\n",
       "      <th>ID</th>\n",
       "      <th>Gender</th>\n",
       "      <th>Age</th>\n",
       "      <th>Class</th>\n",
       "      <th>Major</th>\n",
       "      <th>Grad Intention</th>\n",
       "      <th>GPA</th>\n",
       "      <th>Employment</th>\n",
       "      <th>Salary</th>\n",
       "      <th>Social Networking</th>\n",
       "      <th>Satisfaction</th>\n",
       "      <th>Spending</th>\n",
       "      <th>Computer</th>\n",
       "      <th>Text Messages</th>\n",
       "    </tr>\n",
       "  </thead>\n",
       "  <tbody>\n",
       "    <tr>\n",
       "      <th>0</th>\n",
       "      <td>1</td>\n",
       "      <td>Female</td>\n",
       "      <td>20</td>\n",
       "      <td>Junior</td>\n",
       "      <td>Other</td>\n",
       "      <td>Yes</td>\n",
       "      <td>2.9</td>\n",
       "      <td>Full-Time</td>\n",
       "      <td>50.0</td>\n",
       "      <td>1</td>\n",
       "      <td>3</td>\n",
       "      <td>350</td>\n",
       "      <td>Laptop</td>\n",
       "      <td>200</td>\n",
       "    </tr>\n",
       "    <tr>\n",
       "      <th>1</th>\n",
       "      <td>2</td>\n",
       "      <td>Male</td>\n",
       "      <td>23</td>\n",
       "      <td>Senior</td>\n",
       "      <td>Management</td>\n",
       "      <td>Yes</td>\n",
       "      <td>3.6</td>\n",
       "      <td>Part-Time</td>\n",
       "      <td>25.0</td>\n",
       "      <td>1</td>\n",
       "      <td>4</td>\n",
       "      <td>360</td>\n",
       "      <td>Laptop</td>\n",
       "      <td>50</td>\n",
       "    </tr>\n",
       "    <tr>\n",
       "      <th>2</th>\n",
       "      <td>3</td>\n",
       "      <td>Male</td>\n",
       "      <td>21</td>\n",
       "      <td>Junior</td>\n",
       "      <td>Other</td>\n",
       "      <td>Yes</td>\n",
       "      <td>2.5</td>\n",
       "      <td>Part-Time</td>\n",
       "      <td>45.0</td>\n",
       "      <td>2</td>\n",
       "      <td>4</td>\n",
       "      <td>600</td>\n",
       "      <td>Laptop</td>\n",
       "      <td>200</td>\n",
       "    </tr>\n",
       "    <tr>\n",
       "      <th>3</th>\n",
       "      <td>4</td>\n",
       "      <td>Male</td>\n",
       "      <td>21</td>\n",
       "      <td>Junior</td>\n",
       "      <td>CIS</td>\n",
       "      <td>Yes</td>\n",
       "      <td>2.5</td>\n",
       "      <td>Full-Time</td>\n",
       "      <td>40.0</td>\n",
       "      <td>4</td>\n",
       "      <td>6</td>\n",
       "      <td>600</td>\n",
       "      <td>Laptop</td>\n",
       "      <td>250</td>\n",
       "    </tr>\n",
       "    <tr>\n",
       "      <th>4</th>\n",
       "      <td>5</td>\n",
       "      <td>Male</td>\n",
       "      <td>23</td>\n",
       "      <td>Senior</td>\n",
       "      <td>Other</td>\n",
       "      <td>Undecided</td>\n",
       "      <td>2.8</td>\n",
       "      <td>Unemployed</td>\n",
       "      <td>40.0</td>\n",
       "      <td>2</td>\n",
       "      <td>4</td>\n",
       "      <td>500</td>\n",
       "      <td>Laptop</td>\n",
       "      <td>100</td>\n",
       "    </tr>\n",
       "  </tbody>\n",
       "</table>\n",
       "</div>"
      ],
      "text/plain": [
       "   ID  Gender  Age   Class       Major Grad Intention  GPA  Employment  \\\n",
       "0   1  Female   20  Junior       Other            Yes  2.9   Full-Time   \n",
       "1   2    Male   23  Senior  Management            Yes  3.6   Part-Time   \n",
       "2   3    Male   21  Junior       Other            Yes  2.5   Part-Time   \n",
       "3   4    Male   21  Junior         CIS            Yes  2.5   Full-Time   \n",
       "4   5    Male   23  Senior       Other      Undecided  2.8  Unemployed   \n",
       "\n",
       "   Salary  Social Networking  Satisfaction  Spending Computer  Text Messages  \n",
       "0    50.0                  1             3       350   Laptop            200  \n",
       "1    25.0                  1             4       360   Laptop             50  \n",
       "2    45.0                  2             4       600   Laptop            200  \n",
       "3    40.0                  4             6       600   Laptop            250  \n",
       "4    40.0                  2             4       500   Laptop            100  "
      ]
     },
     "execution_count": 75,
     "metadata": {},
     "output_type": "execute_result"
    }
   ],
   "source": [
    "df2.head()"
   ]
  },
  {
   "cell_type": "code",
   "execution_count": 76,
   "id": "ff34532e",
   "metadata": {
    "scrolled": false
   },
   "outputs": [
    {
     "data": {
      "text/html": [
       "<div>\n",
       "<style scoped>\n",
       "    .dataframe tbody tr th:only-of-type {\n",
       "        vertical-align: middle;\n",
       "    }\n",
       "\n",
       "    .dataframe tbody tr th {\n",
       "        vertical-align: top;\n",
       "    }\n",
       "\n",
       "    .dataframe thead th {\n",
       "        text-align: right;\n",
       "    }\n",
       "</style>\n",
       "<table border=\"1\" class=\"dataframe\">\n",
       "  <thead>\n",
       "    <tr style=\"text-align: right;\">\n",
       "      <th>Grad Intention</th>\n",
       "      <th>No</th>\n",
       "      <th>Undecided</th>\n",
       "      <th>Yes</th>\n",
       "    </tr>\n",
       "    <tr>\n",
       "      <th>Gender</th>\n",
       "      <th></th>\n",
       "      <th></th>\n",
       "      <th></th>\n",
       "    </tr>\n",
       "  </thead>\n",
       "  <tbody>\n",
       "    <tr>\n",
       "      <th>Female</th>\n",
       "      <td>9</td>\n",
       "      <td>13</td>\n",
       "      <td>11</td>\n",
       "    </tr>\n",
       "    <tr>\n",
       "      <th>Male</th>\n",
       "      <td>3</td>\n",
       "      <td>9</td>\n",
       "      <td>17</td>\n",
       "    </tr>\n",
       "  </tbody>\n",
       "</table>\n",
       "</div>"
      ],
      "text/plain": [
       "Grad Intention  No  Undecided  Yes\n",
       "Gender                            \n",
       "Female           9         13   11\n",
       "Male             3          9   17"
      ]
     },
     "execution_count": 76,
     "metadata": {},
     "output_type": "execute_result"
    }
   ],
   "source": [
    "new_df2 = pd.crosstab(df2['Gender'],df2['Grad Intention'])\n",
    "new_df2"
   ]
  },
  {
   "cell_type": "code",
   "execution_count": 77,
   "id": "48e0d8ea",
   "metadata": {},
   "outputs": [
    {
     "data": {
      "text/html": [
       "<div>\n",
       "<style scoped>\n",
       "    .dataframe tbody tr th:only-of-type {\n",
       "        vertical-align: middle;\n",
       "    }\n",
       "\n",
       "    .dataframe tbody tr th {\n",
       "        vertical-align: top;\n",
       "    }\n",
       "\n",
       "    .dataframe thead th {\n",
       "        text-align: right;\n",
       "    }\n",
       "</style>\n",
       "<table border=\"1\" class=\"dataframe\">\n",
       "  <thead>\n",
       "    <tr style=\"text-align: right;\">\n",
       "      <th>Grad Intention</th>\n",
       "      <th>No</th>\n",
       "      <th>Yes</th>\n",
       "    </tr>\n",
       "    <tr>\n",
       "      <th>Gender</th>\n",
       "      <th></th>\n",
       "      <th></th>\n",
       "    </tr>\n",
       "  </thead>\n",
       "  <tbody>\n",
       "    <tr>\n",
       "      <th>Female</th>\n",
       "      <td>9</td>\n",
       "      <td>11</td>\n",
       "    </tr>\n",
       "    <tr>\n",
       "      <th>Male</th>\n",
       "      <td>3</td>\n",
       "      <td>17</td>\n",
       "    </tr>\n",
       "  </tbody>\n",
       "</table>\n",
       "</div>"
      ],
      "text/plain": [
       "Grad Intention  No  Yes\n",
       "Gender                 \n",
       "Female           9   11\n",
       "Male             3   17"
      ]
     },
     "execution_count": 77,
     "metadata": {},
     "output_type": "execute_result"
    }
   ],
   "source": [
    "contingency_gender_grad = pd.pivot_table(new_df2,values=['No','Yes'],index='Gender')\n",
    "contingency_gender_grad"
   ]
  },
  {
   "cell_type": "code",
   "execution_count": 78,
   "id": "9c0d8e97",
   "metadata": {},
   "outputs": [],
   "source": [
    "# For graduate intention and being female to be independent events, it should satisfy the\n",
    "# condition, Prob(Female and Yes) = P(Female) * P(Yes)"
   ]
  },
  {
   "cell_type": "code",
   "execution_count": 79,
   "id": "1b2a11b9",
   "metadata": {},
   "outputs": [
    {
     "name": "stdout",
     "output_type": "stream",
     "text": [
      "probability of being female and grad intention to be yes = 11/40 = 0.275\n"
     ]
    }
   ],
   "source": [
    "P_femaleandyes = 11/40\n",
    "print('probability of being female and grad intention to be yes = 11/40 =',P_femaleandyes)"
   ]
  },
  {
   "cell_type": "code",
   "execution_count": 80,
   "id": "d12b5315",
   "metadata": {},
   "outputs": [
    {
     "name": "stdout",
     "output_type": "stream",
     "text": [
      "probability of grad intention to be yes = 28/40 = 0.7\n"
     ]
    }
   ],
   "source": [
    "P_yes = 28/40\n",
    "print('probability of grad intention to be yes = 28/40 =',P_yes)"
   ]
  },
  {
   "cell_type": "code",
   "execution_count": 81,
   "id": "43d2f22c",
   "metadata": {},
   "outputs": [
    {
     "name": "stdout",
     "output_type": "stream",
     "text": [
      "probability of being a female = 20/40 = 0.5\n"
     ]
    }
   ],
   "source": [
    "P_Female = 20/40\n",
    "print('probability of being a female = 20/40 =',P_Female)"
   ]
  },
  {
   "cell_type": "code",
   "execution_count": 82,
   "id": "a5494b0a",
   "metadata": {},
   "outputs": [
    {
     "name": "stdout",
     "output_type": "stream",
     "text": [
      "P_yes * P_female : 0.35\n"
     ]
    }
   ],
   "source": [
    "print('P_yes * P_female :',P_yes * P_Female)"
   ]
  },
  {
   "cell_type": "code",
   "execution_count": 83,
   "id": "86852318",
   "metadata": {},
   "outputs": [
    {
     "data": {
      "text/plain": [
       "False"
      ]
     },
     "execution_count": 83,
     "metadata": {},
     "output_type": "execute_result"
    }
   ],
   "source": [
    "P_femaleandyes == P_yes * P_Female"
   ]
  },
  {
   "cell_type": "code",
   "execution_count": 84,
   "id": "31b11c80",
   "metadata": {},
   "outputs": [],
   "source": [
    "# P_femaleandyes is not equal to (P_yes * P_Female).\n",
    "# Hence, graduate intention and being female are not independent events"
   ]
  },
  {
   "cell_type": "markdown",
   "id": "7368eadc",
   "metadata": {},
   "source": [
    "### 2.7. Note that there are four numerical (continuous) variables in the data set, GPA, Salary, Spending, and Text Messages. Answer the following questions based on the data\n",
    "\n"
   ]
  },
  {
   "cell_type": "code",
   "execution_count": 85,
   "id": "e91b9017",
   "metadata": {},
   "outputs": [
    {
     "data": {
      "text/html": [
       "<div>\n",
       "<style scoped>\n",
       "    .dataframe tbody tr th:only-of-type {\n",
       "        vertical-align: middle;\n",
       "    }\n",
       "\n",
       "    .dataframe tbody tr th {\n",
       "        vertical-align: top;\n",
       "    }\n",
       "\n",
       "    .dataframe thead th {\n",
       "        text-align: right;\n",
       "    }\n",
       "</style>\n",
       "<table border=\"1\" class=\"dataframe\">\n",
       "  <thead>\n",
       "    <tr style=\"text-align: right;\">\n",
       "      <th></th>\n",
       "      <th>ID</th>\n",
       "      <th>Gender</th>\n",
       "      <th>Age</th>\n",
       "      <th>Class</th>\n",
       "      <th>Major</th>\n",
       "      <th>Grad Intention</th>\n",
       "      <th>GPA</th>\n",
       "      <th>Employment</th>\n",
       "      <th>Salary</th>\n",
       "      <th>Social Networking</th>\n",
       "      <th>Satisfaction</th>\n",
       "      <th>Spending</th>\n",
       "      <th>Computer</th>\n",
       "      <th>Text Messages</th>\n",
       "    </tr>\n",
       "  </thead>\n",
       "  <tbody>\n",
       "    <tr>\n",
       "      <th>0</th>\n",
       "      <td>1</td>\n",
       "      <td>Female</td>\n",
       "      <td>20</td>\n",
       "      <td>Junior</td>\n",
       "      <td>Other</td>\n",
       "      <td>Yes</td>\n",
       "      <td>2.9</td>\n",
       "      <td>Full-Time</td>\n",
       "      <td>50.0</td>\n",
       "      <td>1</td>\n",
       "      <td>3</td>\n",
       "      <td>350</td>\n",
       "      <td>Laptop</td>\n",
       "      <td>200</td>\n",
       "    </tr>\n",
       "    <tr>\n",
       "      <th>1</th>\n",
       "      <td>2</td>\n",
       "      <td>Male</td>\n",
       "      <td>23</td>\n",
       "      <td>Senior</td>\n",
       "      <td>Management</td>\n",
       "      <td>Yes</td>\n",
       "      <td>3.6</td>\n",
       "      <td>Part-Time</td>\n",
       "      <td>25.0</td>\n",
       "      <td>1</td>\n",
       "      <td>4</td>\n",
       "      <td>360</td>\n",
       "      <td>Laptop</td>\n",
       "      <td>50</td>\n",
       "    </tr>\n",
       "    <tr>\n",
       "      <th>2</th>\n",
       "      <td>3</td>\n",
       "      <td>Male</td>\n",
       "      <td>21</td>\n",
       "      <td>Junior</td>\n",
       "      <td>Other</td>\n",
       "      <td>Yes</td>\n",
       "      <td>2.5</td>\n",
       "      <td>Part-Time</td>\n",
       "      <td>45.0</td>\n",
       "      <td>2</td>\n",
       "      <td>4</td>\n",
       "      <td>600</td>\n",
       "      <td>Laptop</td>\n",
       "      <td>200</td>\n",
       "    </tr>\n",
       "    <tr>\n",
       "      <th>3</th>\n",
       "      <td>4</td>\n",
       "      <td>Male</td>\n",
       "      <td>21</td>\n",
       "      <td>Junior</td>\n",
       "      <td>CIS</td>\n",
       "      <td>Yes</td>\n",
       "      <td>2.5</td>\n",
       "      <td>Full-Time</td>\n",
       "      <td>40.0</td>\n",
       "      <td>4</td>\n",
       "      <td>6</td>\n",
       "      <td>600</td>\n",
       "      <td>Laptop</td>\n",
       "      <td>250</td>\n",
       "    </tr>\n",
       "    <tr>\n",
       "      <th>4</th>\n",
       "      <td>5</td>\n",
       "      <td>Male</td>\n",
       "      <td>23</td>\n",
       "      <td>Senior</td>\n",
       "      <td>Other</td>\n",
       "      <td>Undecided</td>\n",
       "      <td>2.8</td>\n",
       "      <td>Unemployed</td>\n",
       "      <td>40.0</td>\n",
       "      <td>2</td>\n",
       "      <td>4</td>\n",
       "      <td>500</td>\n",
       "      <td>Laptop</td>\n",
       "      <td>100</td>\n",
       "    </tr>\n",
       "  </tbody>\n",
       "</table>\n",
       "</div>"
      ],
      "text/plain": [
       "   ID  Gender  Age   Class       Major Grad Intention  GPA  Employment  \\\n",
       "0   1  Female   20  Junior       Other            Yes  2.9   Full-Time   \n",
       "1   2    Male   23  Senior  Management            Yes  3.6   Part-Time   \n",
       "2   3    Male   21  Junior       Other            Yes  2.5   Part-Time   \n",
       "3   4    Male   21  Junior         CIS            Yes  2.5   Full-Time   \n",
       "4   5    Male   23  Senior       Other      Undecided  2.8  Unemployed   \n",
       "\n",
       "   Salary  Social Networking  Satisfaction  Spending Computer  Text Messages  \n",
       "0    50.0                  1             3       350   Laptop            200  \n",
       "1    25.0                  1             4       360   Laptop             50  \n",
       "2    45.0                  2             4       600   Laptop            200  \n",
       "3    40.0                  4             6       600   Laptop            250  \n",
       "4    40.0                  2             4       500   Laptop            100  "
      ]
     },
     "execution_count": 85,
     "metadata": {},
     "output_type": "execute_result"
    }
   ],
   "source": [
    "df2.head()"
   ]
  },
  {
   "cell_type": "markdown",
   "id": "4e44b524",
   "metadata": {},
   "source": [
    "### 2.7.1. If a student is chosen randomly, what is the probability that his/her GPA is less than 3?"
   ]
  },
  {
   "cell_type": "code",
   "execution_count": 86,
   "id": "21cf1d08",
   "metadata": {},
   "outputs": [
    {
     "name": "stdout",
     "output_type": "stream",
     "text": [
      "number of students with GPA less than 3 is = 17\n"
     ]
    }
   ],
   "source": [
    "print('number of students with GPA less than 3 is =',df2[df2['GPA']<3]['ID'].count())"
   ]
  },
  {
   "cell_type": "code",
   "execution_count": 87,
   "id": "c2611ae0",
   "metadata": {},
   "outputs": [
    {
     "name": "stdout",
     "output_type": "stream",
     "text": [
      "Total number of students = 62\n"
     ]
    }
   ],
   "source": [
    "print('Total number of students =',df2['GPA'].count())"
   ]
  },
  {
   "cell_type": "code",
   "execution_count": 88,
   "id": "3f101f7c",
   "metadata": {
    "scrolled": true
   },
   "outputs": [
    {
     "name": "stdout",
     "output_type": "stream",
     "text": [
      "Probability that his/her GPA is less than 3 when a student chosen randomly = 17/62 = 0.2742\n"
     ]
    }
   ],
   "source": [
    "Prob_GPAlessthan3 = df2[df2['GPA']<3]['ID'].count()/df2['GPA'].count()\n",
    "\n",
    "print('Probability that his/her GPA is less than 3 when a student chosen randomly = 17/62 =',round(Prob_GPAlessthan3,4))"
   ]
  },
  {
   "cell_type": "markdown",
   "id": "a720dec4",
   "metadata": {},
   "source": [
    "### 2.7.2. Find the conditional probability that a randomly selected male earns 50 or more. Find the conditional probability that a randomly selected female earns 50 or more."
   ]
  },
  {
   "cell_type": "code",
   "execution_count": 89,
   "id": "3e5b4ec9",
   "metadata": {},
   "outputs": [
    {
     "name": "stdout",
     "output_type": "stream",
     "text": [
      "number of students whose salary is 50 or more:\n",
      "Female    18\n",
      "Male      14\n",
      "Name: Gender, dtype: int64\n"
     ]
    }
   ],
   "source": [
    "print('number of students whose salary is 50 or more:')\n",
    "print(df2[df2['Salary']>=50]['Gender'].value_counts())"
   ]
  },
  {
   "cell_type": "code",
   "execution_count": 90,
   "id": "c8b5f339",
   "metadata": {},
   "outputs": [
    {
     "name": "stdout",
     "output_type": "stream",
     "text": [
      "total number of students:\n",
      "Female    33\n",
      "Male      29\n",
      "Name: Gender, dtype: int64\n"
     ]
    }
   ],
   "source": [
    "print('total number of students:')\n",
    "print(df2['Gender'].value_counts())"
   ]
  },
  {
   "cell_type": "code",
   "execution_count": 91,
   "id": "daf69bf6",
   "metadata": {},
   "outputs": [
    {
     "name": "stdout",
     "output_type": "stream",
     "text": [
      "probability that a randomly selected male earns 50 or more = 14/29  0.4828\n"
     ]
    }
   ],
   "source": [
    "print('probability that a randomly selected male earns 50 or more = 14/29 ',round((14/29),4))"
   ]
  },
  {
   "cell_type": "code",
   "execution_count": 92,
   "id": "a28fd47a",
   "metadata": {},
   "outputs": [
    {
     "name": "stdout",
     "output_type": "stream",
     "text": [
      "probability that a randomly selected female earns 50 or more = 18/33 = 0.5455\n"
     ]
    }
   ],
   "source": [
    "print('probability that a randomly selected female earns 50 or more = 18/33 =',round((18/33),4))"
   ]
  },
  {
   "cell_type": "markdown",
   "id": "603b0146",
   "metadata": {},
   "source": [
    "### 2.8. Note that there are four numerical (continuous) variables in the data set, GPA, Salary, Spending, and Text Messages. For each of them comment whether they follow a normal distribution. Write a note summarizing your conclusions."
   ]
  },
  {
   "cell_type": "code",
   "execution_count": 93,
   "id": "082e5d90",
   "metadata": {},
   "outputs": [
    {
     "data": {
      "text/html": [
       "<div>\n",
       "<style scoped>\n",
       "    .dataframe tbody tr th:only-of-type {\n",
       "        vertical-align: middle;\n",
       "    }\n",
       "\n",
       "    .dataframe tbody tr th {\n",
       "        vertical-align: top;\n",
       "    }\n",
       "\n",
       "    .dataframe thead th {\n",
       "        text-align: right;\n",
       "    }\n",
       "</style>\n",
       "<table border=\"1\" class=\"dataframe\">\n",
       "  <thead>\n",
       "    <tr style=\"text-align: right;\">\n",
       "      <th></th>\n",
       "      <th>ID</th>\n",
       "      <th>Gender</th>\n",
       "      <th>Age</th>\n",
       "      <th>Class</th>\n",
       "      <th>Major</th>\n",
       "      <th>Grad Intention</th>\n",
       "      <th>GPA</th>\n",
       "      <th>Employment</th>\n",
       "      <th>Salary</th>\n",
       "      <th>Social Networking</th>\n",
       "      <th>Satisfaction</th>\n",
       "      <th>Spending</th>\n",
       "      <th>Computer</th>\n",
       "      <th>Text Messages</th>\n",
       "    </tr>\n",
       "  </thead>\n",
       "  <tbody>\n",
       "    <tr>\n",
       "      <th>0</th>\n",
       "      <td>1</td>\n",
       "      <td>Female</td>\n",
       "      <td>20</td>\n",
       "      <td>Junior</td>\n",
       "      <td>Other</td>\n",
       "      <td>Yes</td>\n",
       "      <td>2.9</td>\n",
       "      <td>Full-Time</td>\n",
       "      <td>50.0</td>\n",
       "      <td>1</td>\n",
       "      <td>3</td>\n",
       "      <td>350</td>\n",
       "      <td>Laptop</td>\n",
       "      <td>200</td>\n",
       "    </tr>\n",
       "    <tr>\n",
       "      <th>1</th>\n",
       "      <td>2</td>\n",
       "      <td>Male</td>\n",
       "      <td>23</td>\n",
       "      <td>Senior</td>\n",
       "      <td>Management</td>\n",
       "      <td>Yes</td>\n",
       "      <td>3.6</td>\n",
       "      <td>Part-Time</td>\n",
       "      <td>25.0</td>\n",
       "      <td>1</td>\n",
       "      <td>4</td>\n",
       "      <td>360</td>\n",
       "      <td>Laptop</td>\n",
       "      <td>50</td>\n",
       "    </tr>\n",
       "    <tr>\n",
       "      <th>2</th>\n",
       "      <td>3</td>\n",
       "      <td>Male</td>\n",
       "      <td>21</td>\n",
       "      <td>Junior</td>\n",
       "      <td>Other</td>\n",
       "      <td>Yes</td>\n",
       "      <td>2.5</td>\n",
       "      <td>Part-Time</td>\n",
       "      <td>45.0</td>\n",
       "      <td>2</td>\n",
       "      <td>4</td>\n",
       "      <td>600</td>\n",
       "      <td>Laptop</td>\n",
       "      <td>200</td>\n",
       "    </tr>\n",
       "    <tr>\n",
       "      <th>3</th>\n",
       "      <td>4</td>\n",
       "      <td>Male</td>\n",
       "      <td>21</td>\n",
       "      <td>Junior</td>\n",
       "      <td>CIS</td>\n",
       "      <td>Yes</td>\n",
       "      <td>2.5</td>\n",
       "      <td>Full-Time</td>\n",
       "      <td>40.0</td>\n",
       "      <td>4</td>\n",
       "      <td>6</td>\n",
       "      <td>600</td>\n",
       "      <td>Laptop</td>\n",
       "      <td>250</td>\n",
       "    </tr>\n",
       "    <tr>\n",
       "      <th>4</th>\n",
       "      <td>5</td>\n",
       "      <td>Male</td>\n",
       "      <td>23</td>\n",
       "      <td>Senior</td>\n",
       "      <td>Other</td>\n",
       "      <td>Undecided</td>\n",
       "      <td>2.8</td>\n",
       "      <td>Unemployed</td>\n",
       "      <td>40.0</td>\n",
       "      <td>2</td>\n",
       "      <td>4</td>\n",
       "      <td>500</td>\n",
       "      <td>Laptop</td>\n",
       "      <td>100</td>\n",
       "    </tr>\n",
       "  </tbody>\n",
       "</table>\n",
       "</div>"
      ],
      "text/plain": [
       "   ID  Gender  Age   Class       Major Grad Intention  GPA  Employment  \\\n",
       "0   1  Female   20  Junior       Other            Yes  2.9   Full-Time   \n",
       "1   2    Male   23  Senior  Management            Yes  3.6   Part-Time   \n",
       "2   3    Male   21  Junior       Other            Yes  2.5   Part-Time   \n",
       "3   4    Male   21  Junior         CIS            Yes  2.5   Full-Time   \n",
       "4   5    Male   23  Senior       Other      Undecided  2.8  Unemployed   \n",
       "\n",
       "   Salary  Social Networking  Satisfaction  Spending Computer  Text Messages  \n",
       "0    50.0                  1             3       350   Laptop            200  \n",
       "1    25.0                  1             4       360   Laptop             50  \n",
       "2    45.0                  2             4       600   Laptop            200  \n",
       "3    40.0                  4             6       600   Laptop            250  \n",
       "4    40.0                  2             4       500   Laptop            100  "
      ]
     },
     "execution_count": 93,
     "metadata": {},
     "output_type": "execute_result"
    }
   ],
   "source": [
    "df2.head()"
   ]
  },
  {
   "cell_type": "code",
   "execution_count": 94,
   "id": "fc6d00a3",
   "metadata": {
    "scrolled": false
   },
   "outputs": [
    {
     "data": {
      "image/png": "[encoded data removed]",
      "text/plain": [
       "<Figure size 1500x800 with 4 Axes>"
      ]
     },
     "metadata": {},
     "output_type": "display_data"
    }
   ],
   "source": [
    "plt.figure(figsize=(15,8))\n",
    "plt.subplot(2,2,1)\n",
    "sns.distplot(df2['GPA']);\n",
    "\n",
    "plt.subplot(2,2,2)\n",
    "sns.distplot(df2['Salary']);\n",
    "\n",
    "plt.subplot(2,2,3)\n",
    "sns.distplot(df2['Spending']);\n",
    "\n",
    "plt.subplot(2,2,4)\n",
    "sns.distplot(df2['Text Messages']);"
   ]
  },
  {
   "cell_type": "code",
   "execution_count": 95,
   "id": "c978ad71",
   "metadata": {},
   "outputs": [],
   "source": [
    "#GPA"
   ]
  },
  {
   "cell_type": "code",
   "execution_count": 96,
   "id": "7e465a96",
   "metadata": {},
   "outputs": [
    {
     "name": "stdout",
     "output_type": "stream",
     "text": [
      "mean of gpa : 3.129032258064516\n"
     ]
    }
   ],
   "source": [
    "# calculating the mean for GPA\n",
    "\n",
    "mu_gpa = df2['GPA'].mean()\n",
    "print('mean of gpa :',mu_gpa)"
   ]
  },
  {
   "cell_type": "code",
   "execution_count": 97,
   "id": "6824bba3",
   "metadata": {},
   "outputs": [
    {
     "name": "stdout",
     "output_type": "stream",
     "text": [
      "standard deviation of gpa : 0.3773883926969118\n"
     ]
    }
   ],
   "source": [
    "# calculating the standard deviation for GPA\n",
    "\n",
    "sigma_gpa = df2['GPA'].std()\n",
    "print('standard deviation of gpa :',sigma_gpa)"
   ]
  },
  {
   "cell_type": "code",
   "execution_count": 98,
   "id": "8fe11edb",
   "metadata": {},
   "outputs": [
    {
     "data": {
      "text/plain": [
       "3.5064206507614277"
      ]
     },
     "execution_count": 98,
     "metadata": {},
     "output_type": "execute_result"
    }
   ],
   "source": [
    "mu_gpa+sigma_gpa"
   ]
  },
  {
   "cell_type": "code",
   "execution_count": 99,
   "id": "2b3f477c",
   "metadata": {},
   "outputs": [
    {
     "data": {
      "text/plain": [
       "2.7516438653676043"
      ]
     },
     "execution_count": 99,
     "metadata": {},
     "output_type": "execute_result"
    }
   ],
   "source": [
    "mu_gpa-sigma_gpa"
   ]
  },
  {
   "cell_type": "code",
   "execution_count": 100,
   "id": "20e57965",
   "metadata": {},
   "outputs": [],
   "source": [
    "gpa_one_sd = stats.norm.cdf(mu_gpa+sigma_gpa,mu_gpa,sigma_gpa) - stats.norm.cdf(mu_gpa-sigma_gpa,mu_gpa,sigma_gpa)\n",
    "gpa_two_sd = stats.norm.cdf(mu_gpa+(2*sigma_gpa),mu_gpa,sigma_gpa) - stats.norm.cdf(mu_gpa-(2 * sigma_gpa),mu_gpa,sigma_gpa)\n",
    "gpa_three_sd = stats.norm.cdf(mu_gpa+(3 * sigma_gpa),mu_gpa,sigma_gpa) - stats.norm.cdf(mu_gpa-(3 * sigma_gpa),mu_gpa,sigma_gpa)\n"
   ]
  },
  {
   "cell_type": "code",
   "execution_count": 101,
   "id": "cc28d4a3",
   "metadata": {},
   "outputs": [
    {
     "name": "stdout",
     "output_type": "stream",
     "text": [
      "Fraction of values within one standard deviation for GPA : 0.683\n",
      "Fraction of values within two standard deviation for GPA : 0.954\n",
      "Fraction of values within three standard deviation for GPA : 0.997\n"
     ]
    }
   ],
   "source": [
    "print('Fraction of values within one standard deviation for GPA :',round(gpa_one_sd,3))\n",
    "\n",
    "print('Fraction of values within two standard deviation for GPA :',round(gpa_two_sd,3))\n",
    "\n",
    "print('Fraction of values within three standard deviation for GPA :',round(gpa_three_sd,3))"
   ]
  },
  {
   "cell_type": "code",
   "execution_count": 102,
   "id": "837caf34",
   "metadata": {},
   "outputs": [
    {
     "data": {
      "text/plain": [
       "0.0027377599716255085"
      ]
     },
     "execution_count": 102,
     "metadata": {},
     "output_type": "execute_result"
    }
   ],
   "source": [
    "stats.norm.cdf(mu_gpa+sigma_gpa) - stats.norm.cdf(mu_gpa-sigma_gpa)"
   ]
  },
  {
   "cell_type": "code",
   "execution_count": 103,
   "id": "b48b55d8",
   "metadata": {},
   "outputs": [],
   "source": [
    "# Salary"
   ]
  },
  {
   "cell_type": "code",
   "execution_count": 104,
   "id": "abd9f435",
   "metadata": {},
   "outputs": [
    {
     "name": "stdout",
     "output_type": "stream",
     "text": [
      "mean of salary : 48.54838709677419\n"
     ]
    }
   ],
   "source": [
    "# calculating the mean for Salary\n",
    "\n",
    "mu_salary = df2['Salary'].mean()\n",
    "print('mean of salary :',mu_salary)"
   ]
  },
  {
   "cell_type": "code",
   "execution_count": 105,
   "id": "7e8dee99",
   "metadata": {},
   "outputs": [
    {
     "name": "stdout",
     "output_type": "stream",
     "text": [
      "standard deviation of salary : 12.080912216337277\n"
     ]
    }
   ],
   "source": [
    "# calculating the standard deviation for Salary\n",
    "\n",
    "sigma_salary = df2['Salary'].std()\n",
    "print('standard deviation of salary :',sigma_salary)"
   ]
  },
  {
   "cell_type": "code",
   "execution_count": 106,
   "id": "6e312b07",
   "metadata": {},
   "outputs": [
    {
     "data": {
      "text/plain": [
       "60.62929931311147"
      ]
     },
     "execution_count": 106,
     "metadata": {},
     "output_type": "execute_result"
    }
   ],
   "source": [
    "mu_salary + sigma_salary"
   ]
  },
  {
   "cell_type": "code",
   "execution_count": 107,
   "id": "2dfdc1ba",
   "metadata": {},
   "outputs": [
    {
     "data": {
      "text/plain": [
       "36.46747488043692"
      ]
     },
     "execution_count": 107,
     "metadata": {},
     "output_type": "execute_result"
    }
   ],
   "source": [
    "mu_salary - sigma_salary"
   ]
  },
  {
   "cell_type": "code",
   "execution_count": 108,
   "id": "94d96eab",
   "metadata": {},
   "outputs": [],
   "source": [
    "salary_one_sd = stats.norm.cdf(mu_salary+sigma_salary,mu_salary,sigma_salary) - stats.norm.cdf(mu_salary-sigma_salary,mu_salary,sigma_salary)\n",
    "salary_two_sd = stats.norm.cdf(mu_salary+(2*sigma_salary),mu_salary,sigma_salary) - stats.norm.cdf(mu_salary-(2 * sigma_salary),mu_salary,sigma_salary)\n",
    "salary_three_sd = stats.norm.cdf(mu_salary+(3 * sigma_salary),mu_salary,sigma_salary) - stats.norm.cdf(mu_salary-(3 * sigma_salary),mu_salary,sigma_salary)\n"
   ]
  },
  {
   "cell_type": "code",
   "execution_count": 109,
   "id": "a9f490a6",
   "metadata": {},
   "outputs": [
    {
     "name": "stdout",
     "output_type": "stream",
     "text": [
      "Fraction of values within one standard deviation for Salary : 0.683\n",
      "Fraction of values within two standard deviation for Salary : 0.954\n",
      "Fraction of values within three standard deviation for Salary : 0.997\n"
     ]
    }
   ],
   "source": [
    "print('Fraction of values within one standard deviation for Salary :',round(salary_one_sd,3))\n",
    "\n",
    "print('Fraction of values within two standard deviation for Salary :',round(salary_two_sd,3))\n",
    "\n",
    "print('Fraction of values within three standard deviation for Salary :',round(salary_three_sd,3))"
   ]
  },
  {
   "cell_type": "code",
   "execution_count": 110,
   "id": "213dba61",
   "metadata": {},
   "outputs": [],
   "source": [
    "# Spending"
   ]
  },
  {
   "cell_type": "code",
   "execution_count": 111,
   "id": "166818a9",
   "metadata": {},
   "outputs": [
    {
     "name": "stdout",
     "output_type": "stream",
     "text": [
      "mean of spending : 482.01612903225805\n"
     ]
    }
   ],
   "source": [
    "# calculating the mean for Spending\n",
    "\n",
    "mu_spending = df2['Spending'].mean()\n",
    "print('mean of spending :',mu_spending)"
   ]
  },
  {
   "cell_type": "code",
   "execution_count": 112,
   "id": "a3ee7c8a",
   "metadata": {},
   "outputs": [
    {
     "name": "stdout",
     "output_type": "stream",
     "text": [
      "standard deviation of spending : 221.95380496596204\n"
     ]
    }
   ],
   "source": [
    "# calculating the standard deviation for Spending\n",
    "\n",
    "sigma_spending = df2['Spending'].std()\n",
    "print('standard deviation of spending :',sigma_spending)"
   ]
  },
  {
   "cell_type": "code",
   "execution_count": 113,
   "id": "41b277e1",
   "metadata": {},
   "outputs": [
    {
     "data": {
      "text/plain": [
       "703.9699339982201"
      ]
     },
     "execution_count": 113,
     "metadata": {},
     "output_type": "execute_result"
    }
   ],
   "source": [
    "mu_spending + sigma_spending"
   ]
  },
  {
   "cell_type": "code",
   "execution_count": 114,
   "id": "6fc25e5f",
   "metadata": {},
   "outputs": [
    {
     "data": {
      "text/plain": [
       "260.062324066296"
      ]
     },
     "execution_count": 114,
     "metadata": {},
     "output_type": "execute_result"
    }
   ],
   "source": [
    "mu_spending - sigma_spending"
   ]
  },
  {
   "cell_type": "code",
   "execution_count": 115,
   "id": "1f848c35",
   "metadata": {},
   "outputs": [],
   "source": [
    "spending_one_sd = stats.norm.cdf(mu_spending+sigma_spending,mu_spending,sigma_spending) - stats.norm.cdf(mu_spending-sigma_spending,mu_spending,sigma_spending)\n",
    "spending_two_sd = stats.norm.cdf(mu_spending+(2*sigma_spending),mu_spending,sigma_spending) - stats.norm.cdf(mu_spending-(2 * sigma_spending),mu_spending,sigma_spending)\n",
    "spending_three_sd = stats.norm.cdf(mu_spending+(3 * sigma_spending),mu_spending,sigma_spending) - stats.norm.cdf(mu_spending-(3 * sigma_spending),mu_spending,sigma_spending)\n"
   ]
  },
  {
   "cell_type": "code",
   "execution_count": 116,
   "id": "ad2d2bb9",
   "metadata": {},
   "outputs": [
    {
     "name": "stdout",
     "output_type": "stream",
     "text": [
      "Fraction of values within one standard deviation for Spending : 0.683\n",
      "Fraction of values within two standard deviation for Spending : 0.954\n",
      "Fraction of values within three standard deviation for Spending : 0.997\n"
     ]
    }
   ],
   "source": [
    "print('Fraction of values within one standard deviation for Spending :',round(spending_one_sd,3))\n",
    "\n",
    "print('Fraction of values within two standard deviation for Spending :',round(spending_two_sd,3))\n",
    "\n",
    "print('Fraction of values within three standard deviation for Spending :',round(spending_three_sd,3))"
   ]
  },
  {
   "cell_type": "code",
   "execution_count": 117,
   "id": "dfc4a34a",
   "metadata": {},
   "outputs": [],
   "source": [
    "# Text Messages"
   ]
  },
  {
   "cell_type": "code",
   "execution_count": 118,
   "id": "8cea894b",
   "metadata": {},
   "outputs": [
    {
     "name": "stdout",
     "output_type": "stream",
     "text": [
      "mean of text messages : 246.20967741935485\n"
     ]
    }
   ],
   "source": [
    "# calculating the mean for Text Messages\n",
    "\n",
    "mu_textmessages = df2['Text Messages'].mean()\n",
    "print('mean of text messages :',mu_textmessages)"
   ]
  },
  {
   "cell_type": "code",
   "execution_count": 119,
   "id": "9b821d49",
   "metadata": {},
   "outputs": [
    {
     "name": "stdout",
     "output_type": "stream",
     "text": [
      "standard deviation of text messages : 214.4659503026961\n"
     ]
    }
   ],
   "source": [
    "# calculating the standard deviation for Text Messages\n",
    "\n",
    "sigma_textmessages = df2['Text Messages'].std()\n",
    "print('standard deviation of text messages :',sigma_textmessages)"
   ]
  },
  {
   "cell_type": "code",
   "execution_count": 120,
   "id": "b973235b",
   "metadata": {},
   "outputs": [],
   "source": [
    "tm_one_sd = stats.norm.cdf(mu_textmessages+sigma_textmessages,mu_textmessages,sigma_textmessages) - stats.norm.cdf(mu_textmessages-sigma_textmessages,mu_textmessages,sigma_textmessages)\n",
    "tm_two_sd = stats.norm.cdf(mu_textmessages+(2 * sigma_textmessages),mu_textmessages,sigma_textmessages) - stats.norm.cdf(mu_textmessages-(2 * sigma_textmessages),mu_textmessages,sigma_textmessages)\n",
    "tm_three_sd = stats.norm.cdf(mu_textmessages+(3 * sigma_textmessages),mu_textmessages,sigma_textmessages) - stats.norm.cdf(mu_textmessages-(3 * sigma_textmessages),mu_textmessages,sigma_textmessages)\n"
   ]
  },
  {
   "cell_type": "code",
   "execution_count": 121,
   "id": "438ef53c",
   "metadata": {},
   "outputs": [
    {
     "name": "stdout",
     "output_type": "stream",
     "text": [
      "Fraction of values within one standard deviation for text messages : 0.683\n",
      "Fraction of values within two standard deviation for text messages : 0.954\n",
      "Fraction of values within three standard deviation for text messages : 0.997\n"
     ]
    }
   ],
   "source": [
    "print('Fraction of values within one standard deviation for text messages :',round(tm_one_sd,3))\n",
    "\n",
    "print('Fraction of values within two standard deviation for text messages :',round(tm_two_sd,3))\n",
    "\n",
    "print('Fraction of values within three standard deviation for text messages :',round(tm_three_sd,3))"
   ]
  },
  {
   "cell_type": "code",
   "execution_count": 122,
   "id": "9b665b76",
   "metadata": {},
   "outputs": [],
   "source": [
    "# For all the numerical variables, below is observed:\n",
    "# 68% of the observed values lie between 1 standard deviation around the mean\n",
    "# 95% of the observed values lie between 2 standard deviations around the mean\n",
    "# 99.7% of the observed values lie between 3 standard deviation around the mean\n",
    "\n",
    "# Hence, we can say that GPA, Salary, Spending and Text Messages follow normal distribution"
   ]
  },
  {
   "cell_type": "markdown",
   "id": "8a16cce4",
   "metadata": {},
   "source": [
    "### Problem 3 : An important quality characteristic used by the manufacturers of ABC asphalt shingles is the amount of moisture the shingles contain when they are packaged. Customers may feel that they have purchased a product lacking in quality if they find moisture and wet shingles inside the packaging.   In some cases, excessive moisture can cause the granules attached to the shingles for texture and coloring purposes to fall off the shingles resulting in appearance problems. To monitor the amount of moisture present, the company conducts moisture tests. A shingle is weighed and then dried. The shingle is then reweighed, and based on the amount of moisture taken out of the product, the pounds of moisture per 100 square feet are calculated. The company would like to show that the mean moisture content is less than 0.35 pounds per 100 square feet.\n"
   ]
  },
  {
   "cell_type": "markdown",
   "id": "82a0b778",
   "metadata": {},
   "source": [
    "### The file (A & B shingles.csv) includes 36 measurements (in pounds per 100 square feet) for A shingles and 31 for B shingles."
   ]
  },
  {
   "cell_type": "code",
   "execution_count": 123,
   "id": "fdb44657",
   "metadata": {},
   "outputs": [
    {
     "data": {
      "text/plain": [
       "['project_smdm_pooja.ipynb',\n",
       " 'A B shingles.csv',\n",
       " 'smdm_report_pooja.pdf',\n",
       " '.ipynb_checkpoints',\n",
       " 'Survey.csv',\n",
       " 'Wholesale Customer.csv']"
      ]
     },
     "execution_count": 123,
     "metadata": {},
     "output_type": "execute_result"
    }
   ],
   "source": [
    "os.listdir()"
   ]
  },
  {
   "cell_type": "code",
   "execution_count": 124,
   "id": "e7c6394e",
   "metadata": {},
   "outputs": [],
   "source": [
    "df3 = pd.read_csv('A B shingles.csv')"
   ]
  },
  {
   "cell_type": "code",
   "execution_count": 125,
   "id": "2e63c8b4",
   "metadata": {
    "scrolled": false
   },
   "outputs": [
    {
     "data": {
      "text/html": [
       "<div>\n",
       "<style scoped>\n",
       "    .dataframe tbody tr th:only-of-type {\n",
       "        vertical-align: middle;\n",
       "    }\n",
       "\n",
       "    .dataframe tbody tr th {\n",
       "        vertical-align: top;\n",
       "    }\n",
       "\n",
       "    .dataframe thead th {\n",
       "        text-align: right;\n",
       "    }\n",
       "</style>\n",
       "<table border=\"1\" class=\"dataframe\">\n",
       "  <thead>\n",
       "    <tr style=\"text-align: right;\">\n",
       "      <th></th>\n",
       "      <th>A</th>\n",
       "      <th>B</th>\n",
       "    </tr>\n",
       "  </thead>\n",
       "  <tbody>\n",
       "    <tr>\n",
       "      <th>0</th>\n",
       "      <td>0.44</td>\n",
       "      <td>0.14</td>\n",
       "    </tr>\n",
       "    <tr>\n",
       "      <th>1</th>\n",
       "      <td>0.61</td>\n",
       "      <td>0.15</td>\n",
       "    </tr>\n",
       "    <tr>\n",
       "      <th>2</th>\n",
       "      <td>0.47</td>\n",
       "      <td>0.31</td>\n",
       "    </tr>\n",
       "    <tr>\n",
       "      <th>3</th>\n",
       "      <td>0.30</td>\n",
       "      <td>0.16</td>\n",
       "    </tr>\n",
       "    <tr>\n",
       "      <th>4</th>\n",
       "      <td>0.15</td>\n",
       "      <td>0.37</td>\n",
       "    </tr>\n",
       "    <tr>\n",
       "      <th>5</th>\n",
       "      <td>0.24</td>\n",
       "      <td>0.18</td>\n",
       "    </tr>\n",
       "    <tr>\n",
       "      <th>6</th>\n",
       "      <td>0.16</td>\n",
       "      <td>0.42</td>\n",
       "    </tr>\n",
       "    <tr>\n",
       "      <th>7</th>\n",
       "      <td>0.20</td>\n",
       "      <td>0.58</td>\n",
       "    </tr>\n",
       "    <tr>\n",
       "      <th>8</th>\n",
       "      <td>0.20</td>\n",
       "      <td>0.25</td>\n",
       "    </tr>\n",
       "    <tr>\n",
       "      <th>9</th>\n",
       "      <td>0.20</td>\n",
       "      <td>0.41</td>\n",
       "    </tr>\n",
       "    <tr>\n",
       "      <th>10</th>\n",
       "      <td>0.26</td>\n",
       "      <td>0.17</td>\n",
       "    </tr>\n",
       "    <tr>\n",
       "      <th>11</th>\n",
       "      <td>0.14</td>\n",
       "      <td>0.13</td>\n",
       "    </tr>\n",
       "    <tr>\n",
       "      <th>12</th>\n",
       "      <td>0.33</td>\n",
       "      <td>0.23</td>\n",
       "    </tr>\n",
       "    <tr>\n",
       "      <th>13</th>\n",
       "      <td>0.13</td>\n",
       "      <td>0.11</td>\n",
       "    </tr>\n",
       "    <tr>\n",
       "      <th>14</th>\n",
       "      <td>0.72</td>\n",
       "      <td>0.10</td>\n",
       "    </tr>\n",
       "    <tr>\n",
       "      <th>15</th>\n",
       "      <td>0.51</td>\n",
       "      <td>0.19</td>\n",
       "    </tr>\n",
       "    <tr>\n",
       "      <th>16</th>\n",
       "      <td>0.28</td>\n",
       "      <td>0.22</td>\n",
       "    </tr>\n",
       "    <tr>\n",
       "      <th>17</th>\n",
       "      <td>0.39</td>\n",
       "      <td>0.44</td>\n",
       "    </tr>\n",
       "    <tr>\n",
       "      <th>18</th>\n",
       "      <td>0.39</td>\n",
       "      <td>0.11</td>\n",
       "    </tr>\n",
       "    <tr>\n",
       "      <th>19</th>\n",
       "      <td>0.25</td>\n",
       "      <td>0.11</td>\n",
       "    </tr>\n",
       "    <tr>\n",
       "      <th>20</th>\n",
       "      <td>0.16</td>\n",
       "      <td>0.31</td>\n",
       "    </tr>\n",
       "    <tr>\n",
       "      <th>21</th>\n",
       "      <td>0.20</td>\n",
       "      <td>0.43</td>\n",
       "    </tr>\n",
       "    <tr>\n",
       "      <th>22</th>\n",
       "      <td>0.22</td>\n",
       "      <td>0.26</td>\n",
       "    </tr>\n",
       "    <tr>\n",
       "      <th>23</th>\n",
       "      <td>0.42</td>\n",
       "      <td>0.18</td>\n",
       "    </tr>\n",
       "    <tr>\n",
       "      <th>24</th>\n",
       "      <td>0.24</td>\n",
       "      <td>0.44</td>\n",
       "    </tr>\n",
       "    <tr>\n",
       "      <th>25</th>\n",
       "      <td>0.21</td>\n",
       "      <td>0.43</td>\n",
       "    </tr>\n",
       "    <tr>\n",
       "      <th>26</th>\n",
       "      <td>0.49</td>\n",
       "      <td>0.16</td>\n",
       "    </tr>\n",
       "    <tr>\n",
       "      <th>27</th>\n",
       "      <td>0.34</td>\n",
       "      <td>0.52</td>\n",
       "    </tr>\n",
       "    <tr>\n",
       "      <th>28</th>\n",
       "      <td>0.36</td>\n",
       "      <td>0.36</td>\n",
       "    </tr>\n",
       "    <tr>\n",
       "      <th>29</th>\n",
       "      <td>0.29</td>\n",
       "      <td>0.22</td>\n",
       "    </tr>\n",
       "    <tr>\n",
       "      <th>30</th>\n",
       "      <td>0.27</td>\n",
       "      <td>0.39</td>\n",
       "    </tr>\n",
       "    <tr>\n",
       "      <th>31</th>\n",
       "      <td>0.40</td>\n",
       "      <td>NaN</td>\n",
       "    </tr>\n",
       "    <tr>\n",
       "      <th>32</th>\n",
       "      <td>0.29</td>\n",
       "      <td>NaN</td>\n",
       "    </tr>\n",
       "    <tr>\n",
       "      <th>33</th>\n",
       "      <td>0.43</td>\n",
       "      <td>NaN</td>\n",
       "    </tr>\n",
       "    <tr>\n",
       "      <th>34</th>\n",
       "      <td>0.34</td>\n",
       "      <td>NaN</td>\n",
       "    </tr>\n",
       "    <tr>\n",
       "      <th>35</th>\n",
       "      <td>0.37</td>\n",
       "      <td>NaN</td>\n",
       "    </tr>\n",
       "  </tbody>\n",
       "</table>\n",
       "</div>"
      ],
      "text/plain": [
       "       A     B\n",
       "0   0.44  0.14\n",
       "1   0.61  0.15\n",
       "2   0.47  0.31\n",
       "3   0.30  0.16\n",
       "4   0.15  0.37\n",
       "5   0.24  0.18\n",
       "6   0.16  0.42\n",
       "7   0.20  0.58\n",
       "8   0.20  0.25\n",
       "9   0.20  0.41\n",
       "10  0.26  0.17\n",
       "11  0.14  0.13\n",
       "12  0.33  0.23\n",
       "13  0.13  0.11\n",
       "14  0.72  0.10\n",
       "15  0.51  0.19\n",
       "16  0.28  0.22\n",
       "17  0.39  0.44\n",
       "18  0.39  0.11\n",
       "19  0.25  0.11\n",
       "20  0.16  0.31\n",
       "21  0.20  0.43\n",
       "22  0.22  0.26\n",
       "23  0.42  0.18\n",
       "24  0.24  0.44\n",
       "25  0.21  0.43\n",
       "26  0.49  0.16\n",
       "27  0.34  0.52\n",
       "28  0.36  0.36\n",
       "29  0.29  0.22\n",
       "30  0.27  0.39\n",
       "31  0.40   NaN\n",
       "32  0.29   NaN\n",
       "33  0.43   NaN\n",
       "34  0.34   NaN\n",
       "35  0.37   NaN"
      ]
     },
     "execution_count": 125,
     "metadata": {},
     "output_type": "execute_result"
    }
   ],
   "source": [
    "df3"
   ]
  },
  {
   "cell_type": "markdown",
   "id": "ceace587",
   "metadata": {},
   "source": [
    "### 3.1 Do you think there is evidence that means moisture contents in both types of shingles are within the permissible limits? State your conclusions clearly showing all steps."
   ]
  },
  {
   "cell_type": "code",
   "execution_count": 126,
   "id": "94184acc",
   "metadata": {},
   "outputs": [],
   "source": [
    "# H0: mu <= 0.35\n",
    "# H1: mu > 0.35"
   ]
  },
  {
   "cell_type": "code",
   "execution_count": 127,
   "id": "9df0551c",
   "metadata": {},
   "outputs": [],
   "source": [
    "tstat,pval = ttest_1samp(df3['A'],0.35)"
   ]
  },
  {
   "cell_type": "code",
   "execution_count": 128,
   "id": "64796f69",
   "metadata": {},
   "outputs": [
    {
     "data": {
      "text/plain": [
       "(-1.4735046253382782, 0.14955266289815025)"
      ]
     },
     "execution_count": 128,
     "metadata": {},
     "output_type": "execute_result"
    }
   ],
   "source": [
    "tstat,pval"
   ]
  },
  {
   "cell_type": "code",
   "execution_count": 129,
   "id": "c179c387",
   "metadata": {},
   "outputs": [
    {
     "name": "stdout",
     "output_type": "stream",
     "text": [
      "t statistic value is:  -1.4735046253382782\n"
     ]
    }
   ],
   "source": [
    "print('t statistic value is: ',tstat)"
   ]
  },
  {
   "cell_type": "code",
   "execution_count": 130,
   "id": "f84e89f8",
   "metadata": {},
   "outputs": [
    {
     "name": "stdout",
     "output_type": "stream",
     "text": [
      "p value divided by 2 is:  0.07477633144907513\n"
     ]
    }
   ],
   "source": [
    "print('p value divided by 2 is: ',pval/2)"
   ]
  },
  {
   "cell_type": "code",
   "execution_count": 131,
   "id": "850740a8",
   "metadata": {},
   "outputs": [
    {
     "data": {
      "text/plain": [
       "True"
      ]
     },
     "execution_count": 131,
     "metadata": {},
     "output_type": "execute_result"
    }
   ],
   "source": [
    "pval/2 > 0.05"
   ]
  },
  {
   "cell_type": "code",
   "execution_count": 132,
   "id": "3a67c250",
   "metadata": {},
   "outputs": [],
   "source": [
    "# pval is greater than alpha(assuming 5% significance level)\n",
    "# Failed to reject null hypothesis(H0)\n",
    "# Hence, there is no evidence that the mean moisture contents in type A shingles is greater than 0.35"
   ]
  },
  {
   "cell_type": "code",
   "execution_count": 133,
   "id": "4de47d8e",
   "metadata": {},
   "outputs": [],
   "source": [
    "B = df3['B'].dropna()"
   ]
  },
  {
   "cell_type": "code",
   "execution_count": 134,
   "id": "738a01e8",
   "metadata": {
    "scrolled": false
   },
   "outputs": [
    {
     "data": {
      "text/plain": [
       "0     0.14\n",
       "1     0.15\n",
       "2     0.31\n",
       "3     0.16\n",
       "4     0.37\n",
       "5     0.18\n",
       "6     0.42\n",
       "7     0.58\n",
       "8     0.25\n",
       "9     0.41\n",
       "10    0.17\n",
       "11    0.13\n",
       "12    0.23\n",
       "13    0.11\n",
       "14    0.10\n",
       "15    0.19\n",
       "16    0.22\n",
       "17    0.44\n",
       "18    0.11\n",
       "19    0.11\n",
       "20    0.31\n",
       "21    0.43\n",
       "22    0.26\n",
       "23    0.18\n",
       "24    0.44\n",
       "25    0.43\n",
       "26    0.16\n",
       "27    0.52\n",
       "28    0.36\n",
       "29    0.22\n",
       "30    0.39\n",
       "Name: B, dtype: float64"
      ]
     },
     "execution_count": 134,
     "metadata": {},
     "output_type": "execute_result"
    }
   ],
   "source": [
    "B"
   ]
  },
  {
   "cell_type": "code",
   "execution_count": 135,
   "id": "43afef54",
   "metadata": {},
   "outputs": [],
   "source": [
    "tstat,pval = ttest_1samp(B,0.35)"
   ]
  },
  {
   "cell_type": "code",
   "execution_count": 136,
   "id": "9789a06b",
   "metadata": {},
   "outputs": [
    {
     "data": {
      "text/plain": [
       "(-3.1003313069986995, 0.004180954800638363)"
      ]
     },
     "execution_count": 136,
     "metadata": {},
     "output_type": "execute_result"
    }
   ],
   "source": [
    "tstat,pval"
   ]
  },
  {
   "cell_type": "code",
   "execution_count": 137,
   "id": "00367ab6",
   "metadata": {},
   "outputs": [
    {
     "name": "stdout",
     "output_type": "stream",
     "text": [
      "t statistic value is:  -3.1003313069986995\n"
     ]
    }
   ],
   "source": [
    "print('t statistic value is: ',tstat)"
   ]
  },
  {
   "cell_type": "code",
   "execution_count": 138,
   "id": "21cc7dff",
   "metadata": {},
   "outputs": [
    {
     "name": "stdout",
     "output_type": "stream",
     "text": [
      "p value divided by 2 is:  0.0020904774003191813\n"
     ]
    }
   ],
   "source": [
    "print('p value divided by 2 is: ',pval/2)"
   ]
  },
  {
   "cell_type": "code",
   "execution_count": 139,
   "id": "80517540",
   "metadata": {},
   "outputs": [
    {
     "data": {
      "text/plain": [
       "True"
      ]
     },
     "execution_count": 139,
     "metadata": {},
     "output_type": "execute_result"
    }
   ],
   "source": [
    "pval < 0.05"
   ]
  },
  {
   "cell_type": "code",
   "execution_count": 140,
   "id": "d5c58f8e",
   "metadata": {},
   "outputs": [],
   "source": [
    "# Since pval is less than alpha(0.05), Reject null hypothesis(H0).\n",
    "# Hence, there is enough evidence to conclude that mean moisture content for Sample B shingles is greater than 0.35"
   ]
  },
  {
   "cell_type": "markdown",
   "id": "c84e21e7",
   "metadata": {},
   "source": [
    "### 3.2 Do you think that the population mean for shingles A and B are equal? Form the hypothesis and conduct the test of the hypothesis. What assumption do you need to check before the test for equality of means is performed?"
   ]
  },
  {
   "cell_type": "code",
   "execution_count": 141,
   "id": "8d711d80",
   "metadata": {},
   "outputs": [],
   "source": [
    "# H0: mu_A = mu_B\n",
    "# H1: mu_A != mu_B"
   ]
  },
  {
   "cell_type": "code",
   "execution_count": 142,
   "id": "14cf34c1",
   "metadata": {},
   "outputs": [],
   "source": [
    "alpha = 0.05"
   ]
  },
  {
   "cell_type": "code",
   "execution_count": 143,
   "id": "dad75a62",
   "metadata": {},
   "outputs": [],
   "source": [
    "t_stat,p_value = ttest_ind(df3['A'],B)"
   ]
  },
  {
   "cell_type": "code",
   "execution_count": 144,
   "id": "beac9fb6",
   "metadata": {},
   "outputs": [
    {
     "data": {
      "text/plain": [
       "(1.289628271966112, 0.2017496571835328)"
      ]
     },
     "execution_count": 144,
     "metadata": {},
     "output_type": "execute_result"
    }
   ],
   "source": [
    "t_stat,p_value"
   ]
  },
  {
   "cell_type": "code",
   "execution_count": 145,
   "id": "13d7c62d",
   "metadata": {
    "scrolled": true
   },
   "outputs": [
    {
     "name": "stdout",
     "output_type": "stream",
     "text": [
      "t statistic value is:  1.289628271966112\n"
     ]
    }
   ],
   "source": [
    "print('t statistic value is: ',t_stat)"
   ]
  },
  {
   "cell_type": "code",
   "execution_count": 146,
   "id": "154ef0f9",
   "metadata": {},
   "outputs": [
    {
     "name": "stdout",
     "output_type": "stream",
     "text": [
      "p value is:  0.2017496571835328\n"
     ]
    }
   ],
   "source": [
    "print('p value is: ',p_value)"
   ]
  },
  {
   "cell_type": "code",
   "execution_count": 147,
   "id": "ca365a2f",
   "metadata": {},
   "outputs": [
    {
     "data": {
      "text/plain": [
       "True"
      ]
     },
     "execution_count": 147,
     "metadata": {},
     "output_type": "execute_result"
    }
   ],
   "source": [
    "p_value>alpha"
   ]
  },
  {
   "cell_type": "code",
   "execution_count": 148,
   "id": "ae8f712d",
   "metadata": {},
   "outputs": [],
   "source": [
    "# p value is greater than alpha(0.05)\n",
    "# Hence, failed to reject H0.\n",
    "# There is enough evidence that the population mean for shingles A and B are equal."
   ]
  },
  {
   "cell_type": "code",
   "execution_count": null,
   "id": "0976cae4",
   "metadata": {},
   "outputs": [],
   "source": []
  },
  {
   "cell_type": "code",
   "execution_count": null,
   "id": "35209147",
   "metadata": {},
   "outputs": [],
   "source": []
  }
 ],
 "metadata": {
  "kernelspec": {
   "display_name": "Python 3 (ipykernel)",
   "language": "python",
   "name": "python3"
  },
  "language_info": {
   "codemirror_mode": {
    "name": "ipython",
    "version": 3
   },
   "file_extension": ".py",
   "mimetype": "text/x-python",
   "name": "python",
   "nbconvert_exporter": "python",
   "pygments_lexer": "ipython3",
   "version": "3.8.8"
  }
 },
 "nbformat": 4,
 "nbformat_minor": 5
}
